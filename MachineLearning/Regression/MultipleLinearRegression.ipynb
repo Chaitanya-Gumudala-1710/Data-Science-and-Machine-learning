{
 "cells": [
  {
   "cell_type": "markdown",
   "id": "49e5f31f",
   "metadata": {},
   "source": [
    "# Multi Linear Regression"
   ]
  },
  {
   "cell_type": "markdown",
   "id": "9b5886ce",
   "metadata": {},
   "source": [
    "Two or more independent variables are to estimate dependent variable.\n",
    "### Multiple Linear Regression mathematical Equation :\n",
    "$$\\hat{Y} = B_{0} + B_{1} x_{1} + B_{2} x_{2} + ........... + B_{n} x_{n}$$\n",
    "#### Vector Form\n",
    "$$\\hat{y} = {B}^{T} x$$\n",
    "Where <br>\n",
    "${B}^{T}$ = [$B_{0}, B_{1}, B_{2}, ....., B_{n}$] <br>\n",
    "\n",
    "x = $\\begin{bmatrix} 1 \\\\ X_{1} \\\\ X_{2} \\\\ ..\\end{bmatrix}$ <br>\n"
   ]
  },
  {
   "cell_type": "markdown",
   "id": "dde0d6b4",
   "metadata": {},
   "source": [
    "# Multiple Linear Regression"
   ]
  },
  {
   "cell_type": "code",
   "execution_count": 1,
   "id": "1c2a32b1",
   "metadata": {},
   "outputs": [],
   "source": [
    "import numpy as np\n",
    "import pandas as pd\n",
    "import matplotlib.pyplot as plt"
   ]
  },
  {
   "cell_type": "code",
   "execution_count": 2,
   "id": "79b53d00",
   "metadata": {},
   "outputs": [],
   "source": [
    "data = pd.read_csv(\"FuelConsumptionCo2.csv\")\n",
    "selected_data = data[[\"ENGINESIZE\", \"CYLINDERS\", \"FUELCONSUMPTION_CITY\", \"FUELCONSUMPTION_HWY\", \n",
    "                      \"FUELCONSUMPTION_COMB\", \"CO2EMISSIONS\"]]"
   ]
  },
  {
   "cell_type": "code",
   "execution_count": 3,
   "id": "07fe044e",
   "metadata": {},
   "outputs": [],
   "source": [
    "msk = np.random.rand(len(data)) < 0.8\n",
    "train = selected_data[msk]\n",
    "test = selected_data[~msk]"
   ]
  },
  {
   "cell_type": "code",
   "execution_count": 4,
   "id": "c51ac52b",
   "metadata": {},
   "outputs": [
    {
     "data": {
      "text/plain": [
       "LinearRegression()"
      ]
     },
     "execution_count": 4,
     "metadata": {},
     "output_type": "execute_result"
    }
   ],
   "source": [
    "from sklearn import linear_model\n",
    "regression = linear_model.LinearRegression()\n",
    "x_train = np.asanyarray(train[[\"ENGINESIZE\", \"CYLINDERS\", \"FUELCONSUMPTION_COMB\"]])\n",
    "y_train = np.asanyarray(train[[\"CO2EMISSIONS\"]])\n",
    "regression.fit(x_train, y_train)"
   ]
  },
  {
   "cell_type": "code",
   "execution_count": 5,
   "id": "9d01df83",
   "metadata": {},
   "outputs": [
    {
     "name": "stdout",
     "output_type": "stream",
     "text": [
      "Co-efficients : [[11.095868    7.29688342  9.62249322]]\n"
     ]
    }
   ],
   "source": [
    "print(\"Co-efficients : {}\".format(regression.coef_))"
   ]
  },
  {
   "cell_type": "code",
   "execution_count": 6,
   "id": "612af2e3",
   "metadata": {},
   "outputs": [
    {
     "name": "stderr",
     "output_type": "stream",
     "text": [
      "C:\\Users\\ChaitanyaGumudala\\anaconda3\\lib\\site-packages\\sklearn\\base.py:443: UserWarning: X has feature names, but LinearRegression was fitted without feature names\n",
      "  warnings.warn(\n"
     ]
    }
   ],
   "source": [
    "x_test = np.asanyarray(test[[\"ENGINESIZE\", \"CYLINDERS\", \"FUELCONSUMPTION_COMB\"]])\n",
    "y_test = np.asanyarray(test[[\"CO2EMISSIONS\"]])\n",
    "y_predicted = regression.predict(test[[\"ENGINESIZE\", \"CYLINDERS\", \"FUELCONSUMPTION_COMB\"]])"
   ]
  },
  {
   "cell_type": "code",
   "execution_count": 7,
   "id": "21d51bb4",
   "metadata": {},
   "outputs": [
    {
     "name": "stdout",
     "output_type": "stream",
     "text": [
      "Residual sum of squares : 574.72\n",
      "Variance Score : 0.84\n"
     ]
    }
   ],
   "source": [
    "print(\"Residual sum of squares : {0:.2f}\".format(np.mean((y_predicted - y_test) ** 2)))\n",
    "print(\"Variance Score : {0:.2f}\".format(regression.score(x_test, y_test)))"
   ]
  }
 ],
 "metadata": {
  "kernelspec": {
   "display_name": "Python 3 (ipykernel)",
   "language": "python",
   "name": "python3"
  },
  "language_info": {
   "codemirror_mode": {
    "name": "ipython",
    "version": 3
   },
   "file_extension": ".py",
   "mimetype": "text/x-python",
   "name": "python",
   "nbconvert_exporter": "python",
   "pygments_lexer": "ipython3",
   "version": "3.9.7"
  }
 },
 "nbformat": 4,
 "nbformat_minor": 5
}
