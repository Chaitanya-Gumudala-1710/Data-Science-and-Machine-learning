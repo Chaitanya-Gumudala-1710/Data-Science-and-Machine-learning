{
 "cells": [
  {
   "cell_type": "markdown",
   "id": "f8c98d3b",
   "metadata": {},
   "source": [
    "# Regression"
   ]
  },
  {
   "cell_type": "markdown",
   "id": "62e0c6bc",
   "metadata": {},
   "source": [
    "Regression is the process of predicting a continuous value.<br>\n",
    "### Applications of regression include \n",
    "- Sales forecasting\n",
    "- Satisfaction analysis \n",
    "- Price estimation \n",
    "- Employment income\n",
    "\n",
    "### Types of Regression \n",
    "- Ordinal Regression\n",
    "- Poisson Regression\n",
    "- Fast forest quantile Regression\n",
    "- Linear, Polynomial, Lasso, Stepwise, Ridge Regression\n",
    "- Bayesian linear Regression\n",
    "- Neural network Regression\n",
    "- Decision forest Regression\n",
    "- Boosted decision tree Regression\n",
    "- KNN(K-nearest neighbour) \n",
    "\n",
    "## Linear Regression \n",
    "It is the approximation of linear model used to describe the relation ship between two or more variables. <br>\n",
    "In linear regression there are two variables dependent and independent variables. <br> \n",
    "There are two types of linear regression. \n",
    " - Simple linear regession uses one independent variable used to estimate dependent variable. \n",
    " - Multiple linear regression uses more than one independent variables are used to estimate dependent variable.\n",
    "\n",
    "\n",
    "### Simple Linear Regression mathematical equation : \n",
    "$$\\hat{Y} = \\hat{B}_{0} + \\hat{B}_{1} * x $$ <br>\n",
    "$\\hat{B}_{0}$ = Intercept <br>\n",
    "$\\hat{B}_{1}$ = Slope<br>\n",
    "x = Independent Variable <br>\n",
    "### Error  \n",
    "It is the measure of how far the data is from the fitted regression\n",
    "#### Mean Absolute Error : $$\\frac{1}{n}\\sum\\limits _{i=1} ^{n} |y_{i} - \\hat{y}_{i}|$$ <br>\n",
    "$y_{i}$ = Actual Value <br>\n",
    "$\\hat{y}_{i}$ = Predicted Value\n",
    "\n",
    "#### Slope $${B}_{1}  = \\frac{\\sum\\limits _{i=1} ^{s}(x_{i} -\\hat{x}) * (y_{i} -\\hat{y})}{\\sum\\limits _{i=1} ^{s}(x_{i} -\n",
    "\\hat{x})}$$ <br>\n",
    "$${B}_{0} = \\hat{Y} - {B}_{1} * \\hat{x} $$ \n",
    "$\\hat{x}$ = mean of x variables <br>\n",
    "$\\hat{y}$ = mean of y variables <br>\n",
    "### Mean Squared Error  $$\\frac{1}{n} \\sum\\limits _{i=1} ^{n} (y_{i} - \\hat{y}_{i})^2$$\n",
    "\n",
    "### Relative Absolute Error $$\\frac{\\sum\\limits _{i=1} ^{n} |y_{i} - \\hat{y}_{i}|}{\\sum\\limits _{i=1} ^{n} |y_{i} - mean(y)|}$$\n",
    "\n",
    "### Relative Square Error $$\\frac{\\sum\\limits _{i=1} ^{n} |y_{i} - \\hat{y}_{i}|^2}{\\sum\\limits _{i=1} ^{n} |y_{i} - mean(y)|^2}$$\n",
    "\n",
    "### R-Squared $$R^2 = 1 - Relative Square Error$$\n",
    "\n",
    "### Pros of Linear Regression\n",
    "- Very Fast.\n",
    "- Easily Understandable, and highly interpretable.\n",
    "- No paramter tuning.\n",
    "\n",
    "### Model Evaluation approach\n",
    "- Train and test on same data set. \n",
    "    - Test set is the portion of train set.\n",
    "    - High \"Training accuracy\".\n",
    "    - Low \"Out-of-sample accuracy\".\n",
    "- Train/Test split dataset.\n",
    "    - Mutually Exclusive.\n",
    "    - More accurate evaluation on out-of-sample accuracy.\n",
    "    - Highly dependent on which datasets the data is trained and tested.\n",
    "\n",
    "#### Training Accuracy : \n",
    "Training accuracy is the percentage of correct predictions that the model makes when using the test dataset.\n",
    "\n",
    "#### Out-of-sample Accuracy :\n",
    "Out-of-sample accuracy is the percentage of correct predictions that the model makes on data that the model has not been trained on. \n",
    "\n",
    "### Overfitting : \n",
    "The model is overly trained to the dataset, which may capture noise and produce a non-generalized model."
   ]
  },
  {
   "cell_type": "markdown",
   "id": "9cc7baf5",
   "metadata": {},
   "source": [
    "# Linear Regression"
   ]
  },
  {
   "cell_type": "code",
   "execution_count": 1,
   "id": "cb730d86",
   "metadata": {},
   "outputs": [],
   "source": [
    "import numpy as np\n",
    "import pandas as pd\n",
    "import matplotlib.pyplot as plt"
   ]
  },
  {
   "cell_type": "code",
   "execution_count": 2,
   "id": "bc1a6ba6",
   "metadata": {},
   "outputs": [],
   "source": [
    "data = pd.read_csv(\"FuelConsumptionCo2.csv\")\n",
    "selected_data = data[[\"ENGINESIZE\", \"CYLINDERS\", \"FUELCONSUMPTION_COMB\", \"CO2EMISSIONS\"]]"
   ]
  },
  {
   "cell_type": "code",
   "execution_count": 3,
   "id": "8e1866fe",
   "metadata": {},
   "outputs": [],
   "source": [
    "# Splitting data into 80% training and 20% testing data \n",
    "msk = np.random.rand(len(data)) < 0.8\n",
    "train = selected_data[msk]\n",
    "test = selected_data[~msk]"
   ]
  },
  {
   "cell_type": "code",
   "execution_count": 4,
   "id": "f58fb547",
   "metadata": {},
   "outputs": [
    {
     "data": {
      "text/plain": [
       "LinearRegression()"
      ]
     },
     "execution_count": 4,
     "metadata": {},
     "output_type": "execute_result"
    }
   ],
   "source": [
    "from sklearn import linear_model\n",
    "regression = linear_model.LinearRegression()\n",
    "x_train = np.asanyarray(train[[\"ENGINESIZE\"]])\n",
    "y_train = np.asanyarray(train[[\"CO2EMISSIONS\"]])\n",
    "regression.fit(x_train, y_train)"
   ]
  },
  {
   "cell_type": "code",
   "execution_count": 5,
   "id": "74f91ab9",
   "metadata": {
    "scrolled": true
   },
   "outputs": [
    {
     "name": "stdout",
     "output_type": "stream",
     "text": [
      "Co-efficients : [[38.98588918]]\n",
      "Intercept : [126.19215166]\n"
     ]
    }
   ],
   "source": [
    "print(\"Co-efficients : {}\".format(regression.coef_))\n",
    "print(\"Intercept : {}\".format(regression.intercept_))"
   ]
  },
  {
   "cell_type": "code",
   "execution_count": 6,
   "id": "4d848d9c",
   "metadata": {},
   "outputs": [
    {
     "data": {
      "image/png": "[encoded data removed]",
      "text/plain": [
       "<Figure size 432x288 with 1 Axes>"
      ]
     },
     "metadata": {
      "needs_background": "light"
     },
     "output_type": "display_data"
    }
   ],
   "source": [
    "plt.scatter(train.ENGINESIZE, train.CO2EMISSIONS)\n",
    "plt.plot(x_train, regression.coef_[0][0] * x_train + regression.intercept_, \"-r\", linewidth=2, alpha=0.75)\n",
    "plt.title(\"ENGINE SIZE v/s CO2 Emissions\")\n",
    "plt.xlabel(\"ENGINE SIZE\")\n",
    "plt.ylabel(\"CO2 EMISSIONS\")\n",
    "plt.show()"
   ]
  },
  {
   "cell_type": "code",
   "execution_count": 7,
   "id": "2c86fb38",
   "metadata": {},
   "outputs": [],
   "source": [
    "from sklearn.metrics import r2_score\n",
    "x_test = np.asanyarray(test[[\"ENGINESIZE\"]])\n",
    "y_test = np.asanyarray(test[[\"CO2EMISSIONS\"]])\n",
    "y_predict = regression.predict(x_test)"
   ]
  },
  {
   "cell_type": "code",
   "execution_count": 8,
   "id": "7a3561fe",
   "metadata": {},
   "outputs": [
    {
     "name": "stdout",
     "output_type": "stream",
     "text": [
      "Mean absolute error : 23.48\n",
      "Residual sum of squares (MSE) : 1003.06\n",
      "R2-score : 0.76\n"
     ]
    }
   ],
   "source": [
    "print(\"Mean absolute error : {0:.2f}\".format(np.mean(np.absolute(y_predict - y_test))))\n",
    "print(\"Residual sum of squares (MSE) : {0:.2f}\".format(np.mean((y_predict - y_test) ** 2)))\n",
    "print(\"R2-score : {0:.2f}\".format(r2_score(y_test, y_predict)))"
   ]
  }
 ],
 "metadata": {
  "kernelspec": {
   "display_name": "Python 3 (ipykernel)",
   "language": "python",
   "name": "python3"
  },
  "language_info": {
   "codemirror_mode": {
    "name": "ipython",
    "version": 3
   },
   "file_extension": ".py",
   "mimetype": "text/x-python",
   "name": "python",
   "nbconvert_exporter": "python",
   "pygments_lexer": "ipython3",
   "version": "3.10.1"
  }
 },
 "nbformat": 4,
 "nbformat_minor": 5
}
