{
 "cells": [
  {
   "cell_type": "markdown",
   "id": "f8c98d3b",
   "metadata": {},
   "source": [
    "# Regression"
   ]
  },
  {
   "cell_type": "markdown",
   "id": "62e0c6bc",
   "metadata": {},
   "source": [
    "Regression is the process of predicting a continuous value.<br>\n",
    "### Applications of regression include \n",
    "- Sales forecasting\n",
    "- Satisfaction analysis \n",
    "- Price estimation \n",
    "- Employment income\n",
    "\n",
    "### Types of Regression \n",
    "- Ordinal Regression\n",
    "- Poisson Regression\n",
    "- Fast forest quantile Regression\n",
    "- Linear, Polynomial, Lasso, Stepwise, Ridge Regression\n",
    "- Bayesian linear Regression\n",
    "- Neural network Regression\n",
    "- Decision forest Regression\n",
    "- Boosted decision tree Regression\n",
    "- KNN(K-nearest neighbour) \n",
    "\n",
    "## Linear Regression \n",
    "It is the approximation of linear model used to describe the relation ship between two or more variables. <br>\n",
    "In linear regression there are two variables dependent and independent variables. <br> \n",
    "There are two types of linear regression. \n",
    " - Simple linear regession uses one independent variable used to estimate dependent variable. \n",
    " - Multiple linear regression uses more than one independent variables are used to estimate dependent variable.\n",
    "\n",
    "\n",
    "### Simple Linear Regression mathematical equation : \n",
    "$$\\hat{Y} = \\hat{B}_{0} + \\hat{B}_{1} * x $$ <br>\n",
    "$\\hat{B}_{0}$ = Intercept <br>\n",
    "$\\hat{B}_{1}$ = Slope<br>\n",
    "x = Independent Variable <br>\n",
    "### Error  \n",
    "It is the measure of how far the data is from the fitted regression\n",
    "#### Mean Absolute Error : $$\\frac{1}{n}\\sum\\limits _{i=1} ^{n} |y_{i} - \\hat{y}_{i}|$$ <br>\n",
    "$y_{i}$ = Actual Value <br>\n",
    "$\\hat{y}_{i}$ = Predicted Value\n",
    "\n",
    "#### Slope $${B}_{1}  = \\frac{\\sum\\limits _{i=1} ^{s}(x_{i} -\\hat{x}) * (y_{i} -\\hat{y})}{\\sum\\limits _{i=1} ^{s}(x_{i} -\n",
    "\\hat{x})}$$ <br>\n",
    "$${B}_{0} = \\hat{Y} - {B}_{1} * \\hat{x} $$ \n",
    "$\\hat{x}$ = mean of x variables <br>\n",
    "$\\hat{y}$ = mean of y variables <br>\n",
    "### Mean Squared Error  $$\\frac{1}{n} \\sum\\limits _{i=1} ^{n} (y_{i} - \\hat{y}_{i})^2$$\n",
    "\n",
    "### Relative Absolute Error $$\\frac{\\sum\\limits _{i=1} ^{n} |y_{i} - \\hat{y}_{i}|}{\\sum\\limits _{i=1} ^{n} |y_{i} - mean(y)|}$$\n",
    "\n",
    "### Relative Square Error $$\\frac{\\sum\\limits _{i=1} ^{n} |y_{i} - \\hat{y}_{i}|^2}{\\sum\\limits _{i=1} ^{n} |y_{i} - mean(y)|^2}$$\n",
    "\n",
    "### R-Squared $$R^2 = 1 - Relative Square Error$$\n",
    "\n",
    "### Pros of Linear Regression\n",
    "- Very Fast.\n",
    "- Easily Understandable, and highly interpretable.\n",
    "- No paramter tuning.\n",
    "\n",
    "### Model Evaluation approach\n",
    "- Train and test on same data set. \n",
    "    - Test set is the portion of train set.\n",
    "    - High \"Training accuracy\".\n",
    "    - Low \"Out-of-sample accuracy\".\n",
    "- Train/Test split dataset.\n",
    "    - Mutually Exclusive.\n",
    "    - More accurate evaluation on out-of-sample accuracy.\n",
    "    - Highly dependent on which datasets the data is trained and tested.\n",
    "\n",
    "#### Training Accuracy : \n",
    "Training accuracy is the percentage of correct predictions that the model makes when using the test dataset.\n",
    "\n",
    "#### Out-of-sample Accuracy :\n",
    "Out-of-sample accuracy is the percentage of correct predictions that the model makes on data that the model has not been trained on. \n",
    "\n",
    "### Overfitting : \n",
    "The model is overly trained to the dataset, which may capture noise and produce a non-generalized model."
   ]
  },
  {
   "cell_type": "markdown",
   "id": "9cc7baf5",
   "metadata": {},
   "source": [
    "# Linear Regression"
   ]
  },
  {
   "cell_type": "markdown",
   "id": "3e24af07",
   "metadata": {},
   "source": [
    "### Loading the required libraries"
   ]
  },
  {
   "cell_type": "code",
   "execution_count": 1,
   "id": "cb730d86",
   "metadata": {},
   "outputs": [],
   "source": [
    "import numpy as np\n",
    "import pandas as pd\n",
    "import matplotlib.pyplot as plt\n",
    "from sklearn import linear_model\n",
    "from sklearn.metrics import r2_score\n"
   ]
  },
  {
   "cell_type": "markdown",
   "id": "72e1ad3a",
   "metadata": {},
   "source": [
    "### Loading the data and selecting the features for the training"
   ]
  },
  {
   "cell_type": "code",
   "execution_count": 2,
   "id": "bc1a6ba6",
   "metadata": {},
   "outputs": [],
   "source": [
    "data = pd.read_csv(\"FuelConsumptionCo2.csv\")\n",
    "selected_data = data[[\"ENGINESIZE\", \"CYLINDERS\", \"FUELCONSUMPTION_COMB\", \"CO2EMISSIONS\"]]"
   ]
  },
  {
   "cell_type": "code",
   "execution_count": 3,
   "id": "8e1866fe",
   "metadata": {},
   "outputs": [],
   "source": [
    "# Splitting data into 80% training and 20% testing data \n",
    "msk = np.random.rand(len(data)) < 0.8\n",
    "train = selected_data[msk]\n",
    "test = selected_data[~msk]"
   ]
  },
  {
   "cell_type": "code",
   "execution_count": 4,
   "id": "f58fb547",
   "metadata": {},
   "outputs": [
    {
     "data": {
      "text/html": [
       "<style>#sk-container-id-1 {color: black;}#sk-container-id-1 pre{padding: 0;}#sk-container-id-1 div.sk-toggleable {background-color: white;}#sk-container-id-1 label.sk-toggleable__label {cursor: pointer;display: block;width: 100%;margin-bottom: 0;padding: 0.3em;box-sizing: border-box;text-align: center;}#sk-container-id-1 label.sk-toggleable__label-arrow:before {content: \"▸\";float: left;margin-right: 0.25em;color: #696969;}#sk-container-id-1 label.sk-toggleable__label-arrow:hover:before {color: black;}#sk-container-id-1 div.sk-estimator:hover label.sk-toggleable__label-arrow:before {color: black;}#sk-container-id-1 div.sk-toggleable__content {max-height: 0;max-width: 0;overflow: hidden;text-align: left;background-color: #f0f8ff;}#sk-container-id-1 div.sk-toggleable__content pre {margin: 0.2em;color: black;border-radius: 0.25em;background-color: #f0f8ff;}#sk-container-id-1 input.sk-toggleable__control:checked~div.sk-toggleable__content {max-height: 200px;max-width: 100%;overflow: auto;}#sk-container-id-1 input.sk-toggleable__control:checked~label.sk-toggleable__label-arrow:before {content: \"▾\";}#sk-container-id-1 div.sk-estimator input.sk-toggleable__control:checked~label.sk-toggleable__label {background-color: #d4ebff;}#sk-container-id-1 div.sk-label input.sk-toggleable__control:checked~label.sk-toggleable__label {background-color: #d4ebff;}#sk-container-id-1 input.sk-hidden--visually {border: 0;clip: rect(1px 1px 1px 1px);clip: rect(1px, 1px, 1px, 1px);height: 1px;margin: -1px;overflow: hidden;padding: 0;position: absolute;width: 1px;}#sk-container-id-1 div.sk-estimator {font-family: monospace;background-color: #f0f8ff;border: 1px dotted black;border-radius: 0.25em;box-sizing: border-box;margin-bottom: 0.5em;}#sk-container-id-1 div.sk-estimator:hover {background-color: #d4ebff;}#sk-container-id-1 div.sk-parallel-item::after {content: \"\";width: 100%;border-bottom: 1px solid gray;flex-grow: 1;}#sk-container-id-1 div.sk-label:hover label.sk-toggleable__label {background-color: #d4ebff;}#sk-container-id-1 div.sk-serial::before {content: \"\";position: absolute;border-left: 1px solid gray;box-sizing: border-box;top: 0;bottom: 0;left: 50%;z-index: 0;}#sk-container-id-1 div.sk-serial {display: flex;flex-direction: column;align-items: center;background-color: white;padding-right: 0.2em;padding-left: 0.2em;position: relative;}#sk-container-id-1 div.sk-item {position: relative;z-index: 1;}#sk-container-id-1 div.sk-parallel {display: flex;align-items: stretch;justify-content: center;background-color: white;position: relative;}#sk-container-id-1 div.sk-item::before, #sk-container-id-1 div.sk-parallel-item::before {content: \"\";position: absolute;border-left: 1px solid gray;box-sizing: border-box;top: 0;bottom: 0;left: 50%;z-index: -1;}#sk-container-id-1 div.sk-parallel-item {display: flex;flex-direction: column;z-index: 1;position: relative;background-color: white;}#sk-container-id-1 div.sk-parallel-item:first-child::after {align-self: flex-end;width: 50%;}#sk-container-id-1 div.sk-parallel-item:last-child::after {align-self: flex-start;width: 50%;}#sk-container-id-1 div.sk-parallel-item:only-child::after {width: 0;}#sk-container-id-1 div.sk-dashed-wrapped {border: 1px dashed gray;margin: 0 0.4em 0.5em 0.4em;box-sizing: border-box;padding-bottom: 0.4em;background-color: white;}#sk-container-id-1 div.sk-label label {font-family: monospace;font-weight: bold;display: inline-block;line-height: 1.2em;}#sk-container-id-1 div.sk-label-container {text-align: center;}#sk-container-id-1 div.sk-container {/* jupyter's `normalize.less` sets `[hidden] { display: none; }` but bootstrap.min.css set `[hidden] { display: none !important; }` so we also need the `!important` here to be able to override the default hidden behavior on the sphinx rendered scikit-learn.org. See: https://github.com/scikit-learn/scikit-learn/issues/21755 */display: inline-block !important;position: relative;}#sk-container-id-1 div.sk-text-repr-fallback {display: none;}</style><div id=\"sk-container-id-1\" class=\"sk-top-container\"><div class=\"sk-text-repr-fallback\"><pre>LinearRegression()</pre><b>In a Jupyter environment, please rerun this cell to show the HTML representation or trust the notebook. <br />On GitHub, the HTML representation is unable to render, please try loading this page with nbviewer.org.</b></div><div class=\"sk-container\" hidden><div class=\"sk-item\"><div class=\"sk-estimator sk-toggleable\"><input class=\"sk-toggleable__control sk-hidden--visually\" id=\"sk-estimator-id-1\" type=\"checkbox\" checked><label for=\"sk-estimator-id-1\" class=\"sk-toggleable__label sk-toggleable__label-arrow\">LinearRegression</label><div class=\"sk-toggleable__content\"><pre>LinearRegression()</pre></div></div></div></div></div>"
      ],
      "text/plain": [
       "LinearRegression()"
      ]
     },
     "execution_count": 4,
     "metadata": {},
     "output_type": "execute_result"
    }
   ],
   "source": [
    "regression = linear_model.LinearRegression()\n",
    "x_train = np.asanyarray(train[[\"ENGINESIZE\"]])\n",
    "y_train = np.asanyarray(train[[\"CO2EMISSIONS\"]])\n",
    "regression.fit(x_train, y_train)"
   ]
  },
  {
   "cell_type": "code",
   "execution_count": 5,
   "id": "74f91ab9",
   "metadata": {
    "scrolled": true
   },
   "outputs": [
    {
     "name": "stdout",
     "output_type": "stream",
     "text": [
      "Co-efficients : [[38.42633417]]\n",
      "Intercept : [127.30768908]\n"
     ]
    }
   ],
   "source": [
    "print(\"Co-efficients : {}\".format(regression.coef_))\n",
    "print(\"Intercept : {}\".format(regression.intercept_))"
   ]
  },
  {
   "cell_type": "code",
   "execution_count": 6,
   "id": "4d848d9c",
   "metadata": {},
   "outputs": [
    {
     "data": {
      "image/png": "[encoded data removed]",
      "text/plain": [
       "<Figure size 432x288 with 1 Axes>"
      ]
     },
     "metadata": {
      "needs_background": "light"
     },
     "output_type": "display_data"
    }
   ],
   "source": [
    "plt.scatter(train.ENGINESIZE, train.CO2EMISSIONS)\n",
    "plt.plot(x_train, regression.coef_[0][0] * x_train + regression.intercept_, \"-r\", linewidth=2, alpha=0.75)\n",
    "plt.title(\"ENGINE SIZE v/s CO2 Emissions\")\n",
    "plt.xlabel(\"ENGINE SIZE\")\n",
    "plt.ylabel(\"CO2 EMISSIONS\")\n",
    "plt.show()"
   ]
  },
  {
   "cell_type": "code",
   "execution_count": 7,
   "id": "2c86fb38",
   "metadata": {},
   "outputs": [],
   "source": [
    "x_test = np.asanyarray(test[[\"ENGINESIZE\"]])\n",
    "y_test = np.asanyarray(test[[\"CO2EMISSIONS\"]])\n",
    "y_predict = regression.predict(x_test)"
   ]
  },
  {
   "cell_type": "code",
   "execution_count": 8,
   "id": "7a3561fe",
   "metadata": {},
   "outputs": [
    {
     "name": "stdout",
     "output_type": "stream",
     "text": [
      "Mean absolute error : 22.55\n",
      "Residual sum of squares (MSE) : 945.94\n",
      "R2-score : 0.78\n"
     ]
    }
   ],
   "source": [
    "print(\"Mean absolute error : {0:.2f}\".format(np.mean(np.absolute(y_predict - y_test))))\n",
    "print(\"Residual sum of squares (MSE) : {0:.2f}\".format(np.mean((y_predict - y_test) ** 2)))\n",
    "print(\"R2-score : {0:.2f}\".format(r2_score(y_test, y_predict)))"
   ]
  }
 ],
 "metadata": {
  "kernelspec": {
   "display_name": "Python 3 (ipykernel)",
   "language": "python",
   "name": "python3"
  },
  "language_info": {
   "codemirror_mode": {
    "name": "ipython",
    "version": 3
   },
   "file_extension": ".py",
   "mimetype": "text/x-python",
   "name": "python",
   "nbconvert_exporter": "python",
   "pygments_lexer": "ipython3",
   "version": "3.10.12"
  }
 },
 "nbformat": 4,
 "nbformat_minor": 5
}
