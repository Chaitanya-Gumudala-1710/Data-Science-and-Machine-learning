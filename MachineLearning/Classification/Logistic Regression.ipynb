{
 "cells": [
  {
   "cell_type": "markdown",
   "id": "c4027a78",
   "metadata": {},
   "source": [
    "# Logistic Regression"
   ]
  },
  {
   "cell_type": "markdown",
   "id": "32c6b7e7",
   "metadata": {},
   "source": [
    "Logistic regression is the classification algorithm for categorical variable.<br>\n",
    "Logistic Regression Applocations :-\n",
    "1. Predicting the probability of a person having a heart attack.\n",
    "2. Predicting the mortality in injured patients.\n",
    "3. Predicting a customer's propernsity to purchase a product or halt a subscription.\n",
    "4. Predicting the probability of failure of a given process or product.\n",
    "5. Predicting the likelihood of a homeowner defaulting on a mortgage.\n",
    "* Logistic regression is suitable when data is binary, need probabilistic results, need a linear decision boundary, need to understand the impact of a feature."
   ]
  },
  {
   "cell_type": "markdown",
   "id": "a0300cbd",
   "metadata": {},
   "source": [
    "### Logistic Function\n",
    "$$\\sigma(\\theta^T X) = \\frac{1}{1 + e^{-\\theta^T X}} = P(y=1|x) = 1 - P(y=0|x)$$\n",
    "### Training Process\n",
    "1. Initialize $\\theta$.\n",
    "2. Calculate $\\hat y = \\sigma(\\theta^T X)$ for a customer.\n",
    "3. Compare the output of $\\hat y$ with actual output of customer y and record all its error.\n",
    "4. Calculate all error for all customers.\n",
    "5. Change the $\\theta$ to reduce cost.\n",
    "6. Go back to step 2."
   ]
  },
  {
   "cell_type": "markdown",
   "id": "e9774521",
   "metadata": {},
   "source": [
    "### Cost Function :-\n",
    "$$cost(\\hat y, y) = \\frac{1}{2}(\\sigma(\\theta^T X) - y)$$\n",
    "$$ J(\\theta) = \\frac{1}{m}\\sum_{i-1}^{m}cost(\\hat y, y)$$\n",
    "$$ J(\\theta) = \\frac{1}{m}\\sum_{i-1}^{m} y^i log(\\hat y^i) + (1-y^i)log(1-\\hat y^i)$$"
   ]
  },
  {
   "cell_type": "markdown",
   "id": "85611295",
   "metadata": {},
   "source": [
    "Gradient Descent :- A technique to use the derivative of a cost function to change the parameter values, in order to minimize the cost.<br>\n",
    "$$\\frac{\\partial J}{\\partial \\theta_{1}} = -\\frac{1}{m}\\sum_{i=1}^{m}(y^i - \\hat y^i)x_{1}^i $$\n",
    "$$\\nabla J = \\begin{bmatrix} \\frac{\\partial J}{\\partial \\theta_{1}} \\\\ \\frac{\\partial J}{\\partial \\theta_{2}} \\\\ .... \\\\ .... \\\\ \\frac{\\partial J}{\\partial \\theta_{k}}\\end{bmatrix}$$\n",
    "$$ \\theta_{new} = \\theta_{theta} - \\eta\\nabla J$$"
   ]
  },
  {
   "cell_type": "markdown",
   "id": "036aeb5b",
   "metadata": {},
   "source": [
    "### Algorithm\n",
    "1. Initialize the parameters randomly.\n",
    "2. Feed the cost function with training set, and calculate error.\n",
    "3. Calculate the gradient of cost fucntion.\n",
    "4. Update weights with new values\n",
    "5. Go to step-2 until cost is small enough\n",
    "6. Predict the customer."
   ]
  },
  {
   "cell_type": "markdown",
   "id": "b91fe3b2",
   "metadata": {},
   "source": [
    "### Loading the required libraries"
   ]
  },
  {
   "cell_type": "code",
   "execution_count": 1,
   "id": "47d4dce8",
   "metadata": {},
   "outputs": [
    {
     "name": "stderr",
     "output_type": "stream",
     "text": [
      "/home/chaitanya/.local/lib/python3.10/site-packages/matplotlib/projections/__init__.py:63: UserWarning: Unable to import Axes3D. This may be due to multiple versions of Matplotlib being installed (e.g. as a system package and as a pip package). As a result, the 3D projection is not available.\n",
      "  warnings.warn(\"Unable to import Axes3D. This may be due to multiple versions of \"\n"
     ]
    }
   ],
   "source": [
    "import numpy as np\n",
    "import pandas as pd\n",
    "import matplotlib.pyplot as plt\n",
    "from sklearn import preprocessing\n",
    "from sklearn.model_selection import train_test_split\n",
    "from sklearn.linear_model import LogisticRegression\n",
    "from sklearn.metrics import jaccard_score\n",
    "from sklearn.metrics import classification_report, confusion_matrix\n",
    "import itertools\n",
    "from sklearn.metrics import log_loss"
   ]
  },
  {
   "cell_type": "markdown",
   "id": "f24d0c16",
   "metadata": {},
   "source": [
    "### Loading the data"
   ]
  },
  {
   "cell_type": "code",
   "execution_count": 2,
   "id": "911a3c87",
   "metadata": {},
   "outputs": [],
   "source": [
    "data = pd.read_csv(\"ChurnData.csv\")"
   ]
  },
  {
   "cell_type": "code",
   "execution_count": 3,
   "id": "46123ce4",
   "metadata": {},
   "outputs": [],
   "source": [
    "# Selecting specific columns from the dataframe\n",
    "data = data[[\"tenure\", \"age\", \"address\", \"income\", \"ed\", \"employ\", \"equip\", \"callcard\", \"wireless\", \"churn\"]]\n",
    "\n",
    "# Converting the \"churn\" column to integer type\n",
    "data[\"churn\"] = data[\"churn\"].astype(\"int\")"
   ]
  },
  {
   "cell_type": "code",
   "execution_count": 4,
   "id": "e400e44c",
   "metadata": {},
   "outputs": [],
   "source": [
    "X = np.asarray(data[[\"tenure\", \"age\", \"address\", \"income\", \"ed\", \"employ\", \"equip\"]])\n",
    "Y = np.asarray(data[\"churn\"])"
   ]
  },
  {
   "cell_type": "code",
   "execution_count": 5,
   "id": "58b03655",
   "metadata": {},
   "outputs": [],
   "source": [
    "X = preprocessing.StandardScaler().fit(X).transform(X)"
   ]
  },
  {
   "cell_type": "code",
   "execution_count": 6,
   "id": "626a7fb2",
   "metadata": {},
   "outputs": [
    {
     "name": "stdout",
     "output_type": "stream",
     "text": [
      "Train data size : (160, 7) (160,)\n",
      "Test data size : (40, 7) (40,)\n"
     ]
    }
   ],
   "source": [
    "\"\"\"\n",
    "Split the data into training and testing sets.\n",
    "\"\"\"\n",
    "X_train, X_test, Y_train, Y_test = train_test_split(X, Y, test_size=0.2, random_state=4)\n",
    "print(\"Train data size : {} {}\".format(X_train.shape, Y_train.shape))\n",
    "print(\"Test data size : {} {}\".format(X_test.shape, Y_test.shape))"
   ]
  },
  {
   "cell_type": "code",
   "execution_count": 7,
   "id": "e967c742",
   "metadata": {},
   "outputs": [],
   "source": [
    "# Creating the logistic regression model\n",
    "LR = LogisticRegression(C=0.01, solver=\"liblinear\").fit(X_train, Y_train)"
   ]
  },
  {
   "cell_type": "code",
   "execution_count": 8,
   "id": "6fbff5d9",
   "metadata": {},
   "outputs": [],
   "source": [
    "# Predincting the test set\n",
    "y_hat = LR.predict(X_test)"
   ]
  },
  {
   "cell_type": "code",
   "execution_count": 9,
   "id": "339a1e58",
   "metadata": {},
   "outputs": [],
   "source": [
    "# Predicting the probability of the test set\n",
    "y_hat_prob = LR.predict_proba(X_test)"
   ]
  },
  {
   "cell_type": "code",
   "execution_count": 10,
   "id": "49ad9707",
   "metadata": {},
   "outputs": [
    {
     "name": "stdout",
     "output_type": "stream",
     "text": [
      "Jaccard Score : 0.7058823529411765\n"
     ]
    }
   ],
   "source": [
    "# Printing the confusion matrix\n",
    "print(\"Jaccard Score : {}\".format(jaccard_score(Y_test, y_hat, pos_label = 0)))"
   ]
  },
  {
   "cell_type": "code",
   "execution_count": 11,
   "id": "c26bf190",
   "metadata": {},
   "outputs": [],
   "source": [
    "# This function plots the confusion matrix\n",
    "def plot_confusion_matrix(cm, classes, normalize=False, title = \"Confusion Matrix\", cmap = plt.cm.Blues):\n",
    "    if normalize :\n",
    "        cm = cm.astype(\"float\")/cm.sum(axis=1)[:,np.newaxis]\n",
    "        print(\"Normalized Confusion Matrix\")\n",
    "    else :\n",
    "        print(\"Confusion matrix, without normalization\")\n",
    "    print(cm)\n",
    "    plt.imshow(cm, interpolation=\"nearest\", cmap=cmap)\n",
    "    plt.title(title)\n",
    "    plt.colorbar()\n",
    "    tick_marks = np.arange(len(classes))\n",
    "    plt.xticks(tick_marks, classes, rotation=45)\n",
    "    plt.yticks(tick_marks, classes)\n",
    "    fmt = \".2f\" if normalize else \"d\"\n",
    "    tresh = cm.max()/2.\n",
    "    for i, j in itertools.product(range(cm.shape[0]), range(cm.shape[1])):\n",
    "        plt.text(j, i, format(cm[i, j], fmt), horizontalalignment = \"center\", color = \"white\" if cm[i, j] > tresh else \"black\")\n",
    "    plt.tight_layout()\n",
    "    plt.xlabel(\"Predicted label\")\n",
    "    plt.ylabel(\"True label\")"
   ]
  },
  {
   "cell_type": "code",
   "execution_count": 12,
   "id": "fd154de2",
   "metadata": {},
   "outputs": [
    {
     "name": "stdout",
     "output_type": "stream",
     "text": [
      "Normalized Confusion Matrix\n",
      "[[0.4  0.6 ]\n",
      " [0.04 0.96]]\n"
     ]
    },
    {
     "data": {
      "image/png": "[encoded data removed]",
      "text/plain": [
       "<Figure size 432x288 with 2 Axes>"
      ]
     },
     "metadata": {
      "needs_background": "light"
     },
     "output_type": "display_data"
    }
   ],
   "source": [
    "# Plotting the confusion matrix\n",
    "cnf_matrix = confusion_matrix(Y_test, y_hat, labels=[1,0])\n",
    "np.set_printoptions(precision=2)\n",
    "plt.figure()\n",
    "plot_confusion_matrix(cnf_matrix, classes = [\"Churn = 1\",\"Churn = 0\"], normalize = \"False\", title = \"Confusion Matrix\")"
   ]
  },
  {
   "cell_type": "code",
   "execution_count": 13,
   "id": "4aba985c",
   "metadata": {},
   "outputs": [
    {
     "name": "stdout",
     "output_type": "stream",
     "text": [
      "              precision    recall  f1-score   support\n",
      "\n",
      "           0       0.73      0.96      0.83        25\n",
      "           1       0.86      0.40      0.55        15\n",
      "\n",
      "    accuracy                           0.75        40\n",
      "   macro avg       0.79      0.68      0.69        40\n",
      "weighted avg       0.78      0.75      0.72        40\n",
      "\n"
     ]
    }
   ],
   "source": [
    "print(classification_report(Y_test, y_hat))"
   ]
  },
  {
   "cell_type": "code",
   "execution_count": 14,
   "id": "75bdccb9",
   "metadata": {},
   "outputs": [
    {
     "name": "stdout",
     "output_type": "stream",
     "text": [
      "Log loss: 9.010913347279288\n"
     ]
    }
   ],
   "source": [
    "print(\"Log loss: {}\".format(log_loss(Y_test, y_hat)))"
   ]
  }
 ],
 "metadata": {
  "kernelspec": {
   "display_name": "Python 3 (ipykernel)",
   "language": "python",
   "name": "python3"
  },
  "language_info": {
   "codemirror_mode": {
    "name": "ipython",
    "version": 3
   },
   "file_extension": ".py",
   "mimetype": "text/x-python",
   "name": "python",
   "nbconvert_exporter": "python",
   "pygments_lexer": "ipython3",
   "version": "3.10.12"
  }
 },
 "nbformat": 4,
 "nbformat_minor": 5
}
