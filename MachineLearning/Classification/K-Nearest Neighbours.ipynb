{
 "cells": [
  {
   "cell_type": "markdown",
   "id": "98c0c81f",
   "metadata": {},
   "source": [
    "# K Nearest Neighbours"
   ]
  },
  {
   "cell_type": "markdown",
   "id": "50150ac2",
   "metadata": {},
   "source": [
    "The K-Nearest Neighbour algorithm is a classification algorithm that takes bunch of labeled points and uses them to learn how to label other points. This algorithm classifies cases based on their similarity to other scores. Cases that are near each other are called \"neighbours\".<br>\n",
    "### KNN Algorithm <br>\n",
    "1. Pick a K value.\n",
    "2. Calculate the distance of unknown case from all cases.\n",
    "3. Select the K-observations in the training data that are \"nearest\" to the unknown data point.\n",
    "4. Predict the response of the unknown data point using the most popular response value from the K-nearest neighbors"
   ]
  },
  {
   "cell_type": "markdown",
   "id": "0e2cde6d",
   "metadata": {},
   "source": [
    "### Distance = $\\sqrt{\\sum \\limits_{i=0} ^{n}(x_{1i}-x_{2i})^2}$"
   ]
  },
  {
   "cell_type": "markdown",
   "id": "f2ba48d6",
   "metadata": {},
   "source": [
    "### Jaccard Index\n",
    "$$J(y,\\hat{y}) = \\frac{|y\\bigcap\\hat{y}|}{|y\\bigcup\\hat{y}|} = \\frac{|y\\bigcap\\hat{y}|}{|y| + |\\hat{y}|- |y\\bigcap\\hat{y}|}  $$"
   ]
  },
  {
   "cell_type": "markdown",
   "id": "c6e364c3",
   "metadata": {},
   "source": [
    "### F1 Score\n",
    "#### Precision = $\\frac{True Positive}{True Positive + False Positive}$\n",
    "#### Recall = $\\frac{True Positive}{True Positive + False Negative}$\n",
    "#### F1 Score = $2*(\\frac{Precision * Recall}{Precision + Recall})$"
   ]
  },
  {
   "cell_type": "markdown",
   "id": "22c7b769",
   "metadata": {},
   "source": [
    "### Log loss \n",
    "Measures the performance of a classifier where the predicted output is probability value between 0 and 1.<br>\n",
    "$$Log loss = -\\frac{1}{n}{\\sum(y * log(\\hat{y}) + (1-y) * log(1-\\hat{y}))}$$"
   ]
  },
  {
   "cell_type": "markdown",
   "id": "365bc576",
   "metadata": {},
   "source": [
    "### Loading the required libraries"
   ]
  },
  {
   "cell_type": "code",
   "execution_count": 1,
   "id": "e14cd508",
   "metadata": {},
   "outputs": [
    {
     "name": "stderr",
     "output_type": "stream",
     "text": [
      "/home/chaitanya/.local/lib/python3.10/site-packages/matplotlib/projections/__init__.py:63: UserWarning: Unable to import Axes3D. This may be due to multiple versions of Matplotlib being installed (e.g. as a system package and as a pip package). As a result, the 3D projection is not available.\n",
      "  warnings.warn(\"Unable to import Axes3D. This may be due to multiple versions of \"\n"
     ]
    }
   ],
   "source": [
    "import numpy as np\n",
    "import pandas as pd\n",
    "import matplotlib.pyplot as plt\n",
    "from sklearn import preprocessing\n",
    "from sklearn.model_selection import train_test_split\n",
    "from sklearn.neighbors import KNeighborsClassifier\n",
    "from sklearn import metrics\n"
   ]
  },
  {
   "cell_type": "markdown",
   "id": "c287736c",
   "metadata": {},
   "source": [
    "### Loading the data"
   ]
  },
  {
   "cell_type": "code",
   "execution_count": 2,
   "id": "4e84e4cf",
   "metadata": {},
   "outputs": [],
   "source": [
    "data = pd.read_csv(\"TelecomCustomers.csv\")"
   ]
  },
  {
   "cell_type": "code",
   "execution_count": 3,
   "id": "62bec77e",
   "metadata": {},
   "outputs": [],
   "source": [
    "\"\"\"\n",
    "    X (ndarray): The feature columns extracted from the input DataFrame.\n",
    "    y (ndarray): The target column extracted from the input DataFrame.\n",
    "\"\"\"\n",
    "X = data[[\"region\", \"tenure\", \"age\", \"marital\", \"address\", \"income\", \"ed\", \"employ\", \"retire\", \"gender\", \"reside\"]].values\n",
    "y = data[\"custcat\"].values"
   ]
  },
  {
   "cell_type": "code",
   "execution_count": 4,
   "id": "c4f5e63a",
   "metadata": {},
   "outputs": [],
   "source": [
    "\"\"\"\n",
    "Standardize features by removing the mean and scaling to unit variance.\n",
    "\"\"\"\n",
    "X = preprocessing.StandardScaler().fit(X).transform(X.astype(float))"
   ]
  },
  {
   "cell_type": "code",
   "execution_count": 5,
   "id": "46f63685",
   "metadata": {},
   "outputs": [
    {
     "name": "stdout",
     "output_type": "stream",
     "text": [
      "Train set: (800, 11) (800,)\n",
      "Test set: (200, 11) (200,)\n"
     ]
    }
   ],
   "source": [
    "# Splitting the data into training and testing sets\n",
    "X_train, X_test, y_train, y_test = train_test_split(X, y, test_size=0.2, random_state=4)\n",
    "\n",
    "# Printing the shape of the training and testing sets\n",
    "print(\"Train set: {} {}\".format(X_train.shape, y_train.shape))\n",
    "print(\"Test set: {} {}\".format(X_test.shape, y_test.shape))\n"
   ]
  },
  {
   "cell_type": "code",
   "execution_count": 6,
   "id": "dba34448",
   "metadata": {},
   "outputs": [],
   "source": [
    "k = 4\n",
    "\n",
    "# Create a K-Nearest Neighbors classifier with k neighbors\n",
    "neigh = KNeighborsClassifier(n_neighbors=k).fit(X_train, y_train)\n",
    "k = 4\n",
    "neigh = KNeighborsClassifier(n_neighbors = k).fit(X_train, y_train)"
   ]
  },
  {
   "cell_type": "code",
   "execution_count": 7,
   "id": "4d7b5aa7",
   "metadata": {},
   "outputs": [],
   "source": [
    "\"\"\"\n",
    "Predicts the target variable using the K-Nearest Neighbors algorithm.\n",
    "\"\"\"\n",
    "\n",
    "y_hat = neigh.predict(X_test)"
   ]
  },
  {
   "cell_type": "code",
   "execution_count": 8,
   "id": "66310db6",
   "metadata": {},
   "outputs": [
    {
     "name": "stdout",
     "output_type": "stream",
     "text": [
      "Train set accuracy : 0.5475\n",
      "Test set accuract : 0.32\n"
     ]
    }
   ],
   "source": [
    "# Train set accuracy\n",
    "print(\"Train set accuracy : {}\".format(metrics.accuracy_score(y_train, neigh.predict(X_train))))\n",
    "\n",
    "# Test set accuracy\n",
    "print(\"Test set accuracy : {}\".format(metrics.accuracy_score(y_test, y_hat)))\n"
   ]
  }
 ],
 "metadata": {
  "kernelspec": {
   "display_name": "Python 3 (ipykernel)",
   "language": "python",
   "name": "python3"
  },
  "language_info": {
   "codemirror_mode": {
    "name": "ipython",
    "version": 3
   },
   "file_extension": ".py",
   "mimetype": "text/x-python",
   "name": "python",
   "nbconvert_exporter": "python",
   "pygments_lexer": "ipython3",
   "version": "3.10.12"
  }
 },
 "nbformat": 4,
 "nbformat_minor": 5
}
