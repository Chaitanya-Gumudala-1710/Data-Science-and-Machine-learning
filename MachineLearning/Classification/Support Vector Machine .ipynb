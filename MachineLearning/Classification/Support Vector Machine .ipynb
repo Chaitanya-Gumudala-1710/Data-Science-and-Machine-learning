{
 "cells": [
  {
   "cell_type": "markdown",
   "id": "01e24864",
   "metadata": {},
   "source": [
    "# Support Vector Machine"
   ]
  },
  {
   "cell_type": "markdown",
   "id": "4c2de68a",
   "metadata": {},
   "source": [
    "SVM is a supervised algorithm that classifies cases by finding separator.\n",
    "1. Mapping data to high-dimensional feature space.\n",
    "2. Finding a separator.\n",
    "Mapping data into higher-dimensional space is called kernelling. Kernelling function may be linear, Polynomial, Radio Basis function, Sigmoid.<br>\n",
    "### Advantages and Disadvantages of SVM <br>\n",
    "Advantages :- Accurate in high-dimensional spaces. Memory efficient <br>\n",
    "Disadvatnages :- Prone to over-fitting. No probability estimation. Small datasets.<br>\n",
    "### SVM applications\n",
    "* Image recognition\n",
    "* Text category assignment\n",
    "* Detecting spam\n",
    "* Sentiment analysis\n",
    "* Gene Expression classification\n",
    "* Outlier Detection and clustering"
   ]
  },
  {
   "cell_type": "code",
   "execution_count": 1,
   "id": "1e238dea",
   "metadata": {},
   "outputs": [],
   "source": [
    "import numpy as np\n",
    "import pandas as pd\n",
    "import matplotlib.pyplot as plt"
   ]
  },
  {
   "cell_type": "code",
   "execution_count": 2,
   "id": "c73ce3a1",
   "metadata": {},
   "outputs": [],
   "source": [
    "data = pd.read_csv(\"CellSamplesData.csv\")"
   ]
  },
  {
   "cell_type": "code",
   "execution_count": 3,
   "id": "69c8fdf3",
   "metadata": {},
   "outputs": [
    {
     "data": {
      "image/png": "[encoded data removed]",
      "text/plain": [
       "<Figure size 432x288 with 1 Axes>"
      ]
     },
     "metadata": {
      "needs_background": "light"
     },
     "output_type": "display_data"
    }
   ],
   "source": [
    "ax = data[data[\"Class\"] == 4][0:50].plot(kind=\"scatter\", x=\"Clump\", y=\"UnifSize\", color=\"DarkBlue\", label=\"maligant\");\n",
    "data[data[\"Class\"] == 2][0:50].plot(kind=\"scatter\", x=\"Clump\", y=\"UnifSize\", color=\"Yellow\", label=\"begnin\", ax=ax);\n",
    "plt.show()"
   ]
  },
  {
   "cell_type": "code",
   "execution_count": 4,
   "id": "6dc8809f",
   "metadata": {},
   "outputs": [],
   "source": [
    "data = data[pd.to_numeric(data[\"BareNuc\"], errors=\"coerce\").notnull()]\n",
    "data[\"BareNuc\"] = data[\"BareNuc\"].astype(\"int\")"
   ]
  },
  {
   "cell_type": "code",
   "execution_count": 5,
   "id": "98b5ecde",
   "metadata": {},
   "outputs": [],
   "source": [
    "X = np.asarray(data[[\"Clump\", \"UnifSize\", \"UnifShape\", \"MargAdh\", \"SingEpiSize\", \"BareNuc\", \"BlandChrom\", \"NormNucl\", \"Mit\"]])\n",
    "data[\"Class\"] = data[\"Class\"].astype(\"int\")\n",
    "Y = np.asarray(data[\"Class\"])"
   ]
  },
  {
   "cell_type": "code",
   "execution_count": 6,
   "id": "699fc02d",
   "metadata": {},
   "outputs": [],
   "source": [
    "from sklearn.model_selection import train_test_split"
   ]
  },
  {
   "cell_type": "code",
   "execution_count": 7,
   "id": "8b8ed791",
   "metadata": {},
   "outputs": [
    {
     "name": "stdout",
     "output_type": "stream",
     "text": [
      "Train data size : (546, 9) (546,)\n",
      "Test data size : (137, 9) (137,)\n"
     ]
    }
   ],
   "source": [
    "X_train, X_test, Y_train, Y_test = train_test_split(X, Y, test_size = 0.2, random_state = 4)\n",
    "print(\"Train data size : {} {}\".format(X_train.shape, Y_train.shape))\n",
    "print(\"Test data size : {} {}\".format(X_test.shape, Y_test.shape))"
   ]
  },
  {
   "cell_type": "code",
   "execution_count": 8,
   "id": "309d189f",
   "metadata": {},
   "outputs": [],
   "source": [
    "from sklearn import svm"
   ]
  },
  {
   "cell_type": "code",
   "execution_count": 9,
   "id": "5932ed7b",
   "metadata": {},
   "outputs": [
    {
     "data": {
      "text/plain": [
       "SVC()"
      ]
     },
     "execution_count": 9,
     "metadata": {},
     "output_type": "execute_result"
    }
   ],
   "source": [
    "clf = svm.SVC(kernel = \"rbf\")\n",
    "clf.fit(X_train, Y_train)"
   ]
  },
  {
   "cell_type": "code",
   "execution_count": 10,
   "id": "07b6dd49",
   "metadata": {},
   "outputs": [],
   "source": [
    "y_hat = clf.predict(X_test)"
   ]
  },
  {
   "cell_type": "code",
   "execution_count": 11,
   "id": "3d93ce4e",
   "metadata": {},
   "outputs": [],
   "source": [
    "from sklearn.metrics import classification_report, confusion_matrix\n",
    "import itertools"
   ]
  },
  {
   "cell_type": "code",
   "execution_count": 12,
   "id": "5c20b377",
   "metadata": {},
   "outputs": [],
   "source": [
    "def plot_confusion_matrix(cm, classes, normalize=False, title = \"Confusion Matrix\", cmap = plt.cm.Blues):\n",
    "    if normalize :\n",
    "        cm = cm.astype(\"float\")/cm.sum(axis=1)[:,np.newaxis]\n",
    "        print(\"Normalized Confusion Matrix\")\n",
    "    else :\n",
    "        print(\"Confusion matrix, without normalization\")\n",
    "    print(cm)\n",
    "    plt.imshow(cm, interpolation=\"nearest\", cmap=cmap)\n",
    "    plt.title(title)\n",
    "    plt.colorbar()\n",
    "    tick_marks = np.arange(len(classes))\n",
    "    plt.xticks(tick_marks, classes, rotation=45)\n",
    "    plt.yticks(tick_marks, classes)\n",
    "    fmt = \".2f\" if normalize else \"d\"\n",
    "    tresh = cm.max()/2.\n",
    "    for i, j in itertools.product(range(cm.shape[0]), range(cm.shape[1])):\n",
    "        plt.text(j, i, format(cm[i, j], fmt), horizontalalignment = \"center\", color = \"white\" if cm[i, j] > tresh else \"black\")\n",
    "    plt.tight_layout()\n",
    "    plt.xlabel(\"Predicted label\")\n",
    "    plt.ylabel(\"True label\")"
   ]
  },
  {
   "cell_type": "code",
   "execution_count": 13,
   "id": "2a568cff",
   "metadata": {},
   "outputs": [
    {
     "name": "stdout",
     "output_type": "stream",
     "text": [
      "              precision    recall  f1-score   support\n",
      "\n",
      "           2       1.00      0.94      0.97        90\n",
      "           4       0.90      1.00      0.95        47\n",
      "\n",
      "    accuracy                           0.96       137\n",
      "   macro avg       0.95      0.97      0.96       137\n",
      "weighted avg       0.97      0.96      0.96       137\n",
      "\n",
      "Confusion matrix, without normalization\n",
      "[[85  5]\n",
      " [ 0 47]]\n"
     ]
    },
    {
     "data": {
      "image/png": "[encoded data removed]",
      "text/plain": [
       "<Figure size 432x288 with 2 Axes>"
      ]
     },
     "metadata": {
      "needs_background": "light"
     },
     "output_type": "display_data"
    }
   ],
   "source": [
    "cnf_matrix = confusion_matrix(Y_test, y_hat, labels = [2,4])\n",
    "np.set_printoptions(precision = 2)\n",
    "print(classification_report(Y_test, y_hat))\n",
    "plt.figure()\n",
    "plot_confusion_matrix(cnf_matrix, classes = [\"Benign(2)\", \"Maligant(4)\"], normalize = False, title = \"Confusion matrix\")"
   ]
  },
  {
   "cell_type": "code",
   "execution_count": 14,
   "id": "854c62b1",
   "metadata": {},
   "outputs": [],
   "source": [
    "from sklearn.metrics import f1_score, jaccard_score"
   ]
  },
  {
   "cell_type": "code",
   "execution_count": 15,
   "id": "4ac6140f",
   "metadata": {},
   "outputs": [
    {
     "name": "stdout",
     "output_type": "stream",
     "text": [
      "F1 Score : 0.9639038982104676\n",
      "Jaccard Score : 0.9444444444444444\n"
     ]
    }
   ],
   "source": [
    "print(\"F1 Score : {}\".format(f1_score(Y_test, y_hat, average=\"weighted\")))\n",
    "print(\"Jaccard Score : {}\".format(jaccard_score(Y_test, y_hat, pos_label=2)))"
   ]
  }
 ],
 "metadata": {
  "kernelspec": {
   "display_name": "Python 3 (ipykernel)",
   "language": "python",
   "name": "python3"
  },
  "language_info": {
   "codemirror_mode": {
    "name": "ipython",
    "version": 3
   },
   "file_extension": ".py",
   "mimetype": "text/x-python",
   "name": "python",
   "nbconvert_exporter": "python",
   "pygments_lexer": "ipython3",
   "version": "3.9.7"
  }
 },
 "nbformat": 4,
 "nbformat_minor": 5
}
