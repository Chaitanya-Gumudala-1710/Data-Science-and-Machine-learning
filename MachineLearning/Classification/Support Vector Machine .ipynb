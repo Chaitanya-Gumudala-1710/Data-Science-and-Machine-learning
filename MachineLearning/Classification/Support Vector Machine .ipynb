{
 "cells": [
  {
   "cell_type": "markdown",
   "id": "01e24864",
   "metadata": {},
   "source": [
    "# Support Vector Machine"
   ]
  },
  {
   "cell_type": "markdown",
   "id": "4c2de68a",
   "metadata": {},
   "source": [
    "SVM is a supervised algorithm that classifies cases by finding separator.\n",
    "1. Mapping data to high-dimensional feature space.\n",
    "2. Finding a separator.\n",
    "Mapping data into higher-dimensional space is called kernelling. Kernelling function may be linear, Polynomial, Radio Basis function, Sigmoid.<br>\n",
    "### Advantages and Disadvantages of SVM <br>\n",
    "Advantages :- Accurate in high-dimensional spaces. Memory efficient <br>\n",
    "Disadvatnages :- Prone to over-fitting. No probability estimation. Small datasets.<br>\n",
    "### SVM applications\n",
    "* Image recognition\n",
    "* Text category assignment\n",
    "* Detecting spam\n",
    "* Sentiment analysis\n",
    "* Gene Expression classification\n",
    "* Outlier Detection and clustering"
   ]
  },
  {
   "cell_type": "markdown",
   "id": "ada85120",
   "metadata": {},
   "source": [
    "### Loading the required libraries"
   ]
  },
  {
   "cell_type": "code",
   "execution_count": 1,
   "id": "1e238dea",
   "metadata": {},
   "outputs": [
    {
     "name": "stderr",
     "output_type": "stream",
     "text": [
      "/home/chaitanya/.local/lib/python3.10/site-packages/matplotlib/projections/__init__.py:63: UserWarning: Unable to import Axes3D. This may be due to multiple versions of Matplotlib being installed (e.g. as a system package and as a pip package). As a result, the 3D projection is not available.\n",
      "  warnings.warn(\"Unable to import Axes3D. This may be due to multiple versions of \"\n"
     ]
    }
   ],
   "source": [
    "import numpy as np\n",
    "import pandas as pd\n",
    "import matplotlib.pyplot as plt\n",
    "from sklearn.model_selection import train_test_split\n",
    "from sklearn import svm\n",
    "from sklearn.metrics import classification_report, confusion_matrix\n",
    "import itertools\n",
    "from sklearn.metrics import f1_score, jaccard_score"
   ]
  },
  {
   "cell_type": "markdown",
   "id": "956b0d46",
   "metadata": {},
   "source": [
    "### Loading the dataset"
   ]
  },
  {
   "cell_type": "code",
   "execution_count": 2,
   "id": "c73ce3a1",
   "metadata": {},
   "outputs": [],
   "source": [
    "data = pd.read_csv(\"CellSamplesData.csv\")"
   ]
  },
  {
   "cell_type": "code",
   "execution_count": 3,
   "id": "69c8fdf3",
   "metadata": {},
   "outputs": [
    {
     "data": {
      "image/png": "[encoded data removed]",
      "text/plain": [
       "<Figure size 432x288 with 1 Axes>"
      ]
     },
     "metadata": {
      "needs_background": "light"
     },
     "output_type": "display_data"
    }
   ],
   "source": [
    "# Scatter plot to visualize the data\n",
    "ax = data[data[\"Class\"] == 4][0:50].plot(kind=\"scatter\", x=\"Clump\", y=\"UnifSize\", color=\"DarkBlue\", label=\"maligant\");\n",
    "data[data[\"Class\"] == 2][0:50].plot(kind=\"scatter\", x=\"Clump\", y=\"UnifSize\", color=\"Yellow\", label=\"begnin\", ax=ax);\n",
    "plt.show()"
   ]
  },
  {
   "cell_type": "code",
   "execution_count": 4,
   "id": "6dc8809f",
   "metadata": {},
   "outputs": [],
   "source": [
    "# Convert the class column to integer\n",
    "data = data[pd.to_numeric(data[\"BareNuc\"], errors=\"coerce\").notnull()]\n",
    "data[\"BareNuc\"] = data[\"BareNuc\"].astype(\"int\")"
   ]
  },
  {
   "cell_type": "code",
   "execution_count": 5,
   "id": "98b5ecde",
   "metadata": {},
   "outputs": [],
   "source": [
    "# X variable contains the features used for classification\n",
    "X = np.asarray(data[[\"Clump\", \"UnifSize\", \"UnifShape\", \"MargAdh\", \"SingEpiSize\", \"BareNuc\", \"BlandChrom\", \"NormNucl\", \"Mit\"]])\n",
    "\n",
    "# Convert the \"Class\" column to integer\n",
    "data[\"Class\"] = data[\"Class\"].astype(\"int\")\n",
    "\n",
    "# Y variable contains the target variable\n",
    "Y = np.asarray(data[\"Class\"])"
   ]
  },
  {
   "cell_type": "code",
   "execution_count": 6,
   "id": "8b8ed791",
   "metadata": {},
   "outputs": [
    {
     "name": "stdout",
     "output_type": "stream",
     "text": [
      "Train data size : (546, 9) (546,)\n",
      "Test data size : (137, 9) (137,)\n"
     ]
    }
   ],
   "source": [
    "# Splitting the data into training and testing sets\n",
    "X_train, X_test, Y_train, Y_test = train_test_split(X, Y, test_size = 0.2, random_state = 4)\n",
    "print(\"Train data size : {} {}\".format(X_train.shape, Y_train.shape))\n",
    "print(\"Test data size : {} {}\".format(X_test.shape, Y_test.shape))"
   ]
  },
  {
   "cell_type": "code",
   "execution_count": 7,
   "id": "5932ed7b",
   "metadata": {},
   "outputs": [
    {
     "data": {
      "text/html": [
       "<style>#sk-container-id-1 {color: black;}#sk-container-id-1 pre{padding: 0;}#sk-container-id-1 div.sk-toggleable {background-color: white;}#sk-container-id-1 label.sk-toggleable__label {cursor: pointer;display: block;width: 100%;margin-bottom: 0;padding: 0.3em;box-sizing: border-box;text-align: center;}#sk-container-id-1 label.sk-toggleable__label-arrow:before {content: \"▸\";float: left;margin-right: 0.25em;color: #696969;}#sk-container-id-1 label.sk-toggleable__label-arrow:hover:before {color: black;}#sk-container-id-1 div.sk-estimator:hover label.sk-toggleable__label-arrow:before {color: black;}#sk-container-id-1 div.sk-toggleable__content {max-height: 0;max-width: 0;overflow: hidden;text-align: left;background-color: #f0f8ff;}#sk-container-id-1 div.sk-toggleable__content pre {margin: 0.2em;color: black;border-radius: 0.25em;background-color: #f0f8ff;}#sk-container-id-1 input.sk-toggleable__control:checked~div.sk-toggleable__content {max-height: 200px;max-width: 100%;overflow: auto;}#sk-container-id-1 input.sk-toggleable__control:checked~label.sk-toggleable__label-arrow:before {content: \"▾\";}#sk-container-id-1 div.sk-estimator input.sk-toggleable__control:checked~label.sk-toggleable__label {background-color: #d4ebff;}#sk-container-id-1 div.sk-label input.sk-toggleable__control:checked~label.sk-toggleable__label {background-color: #d4ebff;}#sk-container-id-1 input.sk-hidden--visually {border: 0;clip: rect(1px 1px 1px 1px);clip: rect(1px, 1px, 1px, 1px);height: 1px;margin: -1px;overflow: hidden;padding: 0;position: absolute;width: 1px;}#sk-container-id-1 div.sk-estimator {font-family: monospace;background-color: #f0f8ff;border: 1px dotted black;border-radius: 0.25em;box-sizing: border-box;margin-bottom: 0.5em;}#sk-container-id-1 div.sk-estimator:hover {background-color: #d4ebff;}#sk-container-id-1 div.sk-parallel-item::after {content: \"\";width: 100%;border-bottom: 1px solid gray;flex-grow: 1;}#sk-container-id-1 div.sk-label:hover label.sk-toggleable__label {background-color: #d4ebff;}#sk-container-id-1 div.sk-serial::before {content: \"\";position: absolute;border-left: 1px solid gray;box-sizing: border-box;top: 0;bottom: 0;left: 50%;z-index: 0;}#sk-container-id-1 div.sk-serial {display: flex;flex-direction: column;align-items: center;background-color: white;padding-right: 0.2em;padding-left: 0.2em;position: relative;}#sk-container-id-1 div.sk-item {position: relative;z-index: 1;}#sk-container-id-1 div.sk-parallel {display: flex;align-items: stretch;justify-content: center;background-color: white;position: relative;}#sk-container-id-1 div.sk-item::before, #sk-container-id-1 div.sk-parallel-item::before {content: \"\";position: absolute;border-left: 1px solid gray;box-sizing: border-box;top: 0;bottom: 0;left: 50%;z-index: -1;}#sk-container-id-1 div.sk-parallel-item {display: flex;flex-direction: column;z-index: 1;position: relative;background-color: white;}#sk-container-id-1 div.sk-parallel-item:first-child::after {align-self: flex-end;width: 50%;}#sk-container-id-1 div.sk-parallel-item:last-child::after {align-self: flex-start;width: 50%;}#sk-container-id-1 div.sk-parallel-item:only-child::after {width: 0;}#sk-container-id-1 div.sk-dashed-wrapped {border: 1px dashed gray;margin: 0 0.4em 0.5em 0.4em;box-sizing: border-box;padding-bottom: 0.4em;background-color: white;}#sk-container-id-1 div.sk-label label {font-family: monospace;font-weight: bold;display: inline-block;line-height: 1.2em;}#sk-container-id-1 div.sk-label-container {text-align: center;}#sk-container-id-1 div.sk-container {/* jupyter's `normalize.less` sets `[hidden] { display: none; }` but bootstrap.min.css set `[hidden] { display: none !important; }` so we also need the `!important` here to be able to override the default hidden behavior on the sphinx rendered scikit-learn.org. See: https://github.com/scikit-learn/scikit-learn/issues/21755 */display: inline-block !important;position: relative;}#sk-container-id-1 div.sk-text-repr-fallback {display: none;}</style><div id=\"sk-container-id-1\" class=\"sk-top-container\"><div class=\"sk-text-repr-fallback\"><pre>SVC()</pre><b>In a Jupyter environment, please rerun this cell to show the HTML representation or trust the notebook. <br />On GitHub, the HTML representation is unable to render, please try loading this page with nbviewer.org.</b></div><div class=\"sk-container\" hidden><div class=\"sk-item\"><div class=\"sk-estimator sk-toggleable\"><input class=\"sk-toggleable__control sk-hidden--visually\" id=\"sk-estimator-id-1\" type=\"checkbox\" checked><label for=\"sk-estimator-id-1\" class=\"sk-toggleable__label sk-toggleable__label-arrow\">SVC</label><div class=\"sk-toggleable__content\"><pre>SVC()</pre></div></div></div></div></div>"
      ],
      "text/plain": [
       "SVC()"
      ]
     },
     "execution_count": 7,
     "metadata": {},
     "output_type": "execute_result"
    }
   ],
   "source": [
    "# Creating the SVM model\n",
    "clf = svm.SVC(kernel = \"rbf\")\n",
    "clf.fit(X_train, Y_train)"
   ]
  },
  {
   "cell_type": "code",
   "execution_count": 8,
   "id": "07b6dd49",
   "metadata": {},
   "outputs": [],
   "source": [
    "# Predicting the test data\n",
    "y_hat = clf.predict(X_test)"
   ]
  },
  {
   "cell_type": "code",
   "execution_count": 9,
   "id": "5c20b377",
   "metadata": {},
   "outputs": [],
   "source": [
    "# This function plots the confusion matrix\n",
    "def plot_confusion_matrix(cm, classes, normalize=False, title = \"Confusion Matrix\", cmap = plt.cm.Blues):\n",
    "    if normalize :\n",
    "        cm = cm.astype(\"float\")/cm.sum(axis=1)[:,np.newaxis]\n",
    "        print(\"Normalized Confusion Matrix\")\n",
    "    else :\n",
    "        print(\"Confusion matrix, without normalization\")\n",
    "    print(cm)\n",
    "    plt.imshow(cm, interpolation=\"nearest\", cmap=cmap)\n",
    "    plt.title(title)\n",
    "    plt.colorbar()\n",
    "    tick_marks = np.arange(len(classes))\n",
    "    plt.xticks(tick_marks, classes, rotation=45)\n",
    "    plt.yticks(tick_marks, classes)\n",
    "    fmt = \".2f\" if normalize else \"d\"\n",
    "    tresh = cm.max()/2.\n",
    "    for i, j in itertools.product(range(cm.shape[0]), range(cm.shape[1])):\n",
    "        plt.text(j, i, format(cm[i, j], fmt), horizontalalignment = \"center\", color = \"white\" if cm[i, j] > tresh else \"black\")\n",
    "    plt.tight_layout()\n",
    "    plt.xlabel(\"Predicted label\")\n",
    "    plt.ylabel(\"True label\")"
   ]
  },
  {
   "cell_type": "code",
   "execution_count": 10,
   "id": "2a568cff",
   "metadata": {},
   "outputs": [
    {
     "name": "stdout",
     "output_type": "stream",
     "text": [
      "              precision    recall  f1-score   support\n",
      "\n",
      "           2       1.00      0.94      0.97        90\n",
      "           4       0.90      1.00      0.95        47\n",
      "\n",
      "    accuracy                           0.96       137\n",
      "   macro avg       0.95      0.97      0.96       137\n",
      "weighted avg       0.97      0.96      0.96       137\n",
      "\n",
      "Confusion matrix, without normalization\n",
      "[[85  5]\n",
      " [ 0 47]]\n"
     ]
    },
    {
     "data": {
      "image/png": "[encoded data removed]",
      "text/plain": [
       "<Figure size 432x288 with 2 Axes>"
      ]
     },
     "metadata": {
      "needs_background": "light"
     },
     "output_type": "display_data"
    }
   ],
   "source": [
    "# Plotting the confusion matrix\n",
    "cnf_matrix = confusion_matrix(Y_test, y_hat, labels = [2,4])\n",
    "np.set_printoptions(precision = 2)\n",
    "print(classification_report(Y_test, y_hat))\n",
    "plt.figure()\n",
    "plot_confusion_matrix(cnf_matrix, classes = [\"Benign(2)\", \"Maligant(4)\"], normalize = False, title = \"Confusion matrix\")"
   ]
  },
  {
   "cell_type": "code",
   "execution_count": 11,
   "id": "4ac6140f",
   "metadata": {},
   "outputs": [
    {
     "name": "stdout",
     "output_type": "stream",
     "text": [
      "F1 Score : 0.9639038982104676\n",
      "Jaccard Score : 0.9444444444444444\n"
     ]
    }
   ],
   "source": [
    "print(\"F1 Score : {}\".format(f1_score(Y_test, y_hat, average=\"weighted\")))\n",
    "print(\"Jaccard Score : {}\".format(jaccard_score(Y_test, y_hat, pos_label=2)))"
   ]
  }
 ],
 "metadata": {
  "kernelspec": {
   "display_name": "Python 3 (ipykernel)",
   "language": "python",
   "name": "python3"
  },
  "language_info": {
   "codemirror_mode": {
    "name": "ipython",
    "version": 3
   },
   "file_extension": ".py",
   "mimetype": "text/x-python",
   "name": "python",
   "nbconvert_exporter": "python",
   "pygments_lexer": "ipython3",
   "version": "3.10.12"
  }
 },
 "nbformat": 4,
 "nbformat_minor": 5
}
