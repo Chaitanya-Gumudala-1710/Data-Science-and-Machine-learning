{
 "cells": [
  {
   "cell_type": "markdown",
   "id": "5b9edf38",
   "metadata": {},
   "source": [
    "# Content Based Filtering"
   ]
  },
  {
   "cell_type": "code",
   "execution_count": 1,
   "id": "61b74121",
   "metadata": {},
   "outputs": [],
   "source": [
    "import numpy as np\n",
    "import pandas as pd"
   ]
  },
  {
   "cell_type": "code",
   "execution_count": 2,
   "id": "bc6accfd",
   "metadata": {},
   "outputs": [],
   "source": [
    "movie_data = pd.read_csv(\"Movies.csv\")\n",
    "ratings_data = pd.read_csv(\"Ratings.csv\")"
   ]
  },
  {
   "cell_type": "code",
   "execution_count": 3,
   "id": "6f305539",
   "metadata": {},
   "outputs": [
    {
     "name": "stderr",
     "output_type": "stream",
     "text": [
      "C:\\Users\\CHAITA~2\\AppData\\Local\\Temp/ipykernel_5112/633643277.py:3: FutureWarning: The default value of regex will change from True to False in a future version.\n",
      "  movie_data[\"title\"] = movie_data.title.str.replace('(\\(\\d\\d\\d\\d\\))', '')\n"
     ]
    }
   ],
   "source": [
    "movie_data[\"year\"] = movie_data.title.str.extract('(\\(\\d\\d\\d\\d\\))', expand=False)\n",
    "movie_data[\"year\"] = movie_data.title.str.extract('(\\d\\d\\d\\d)', expand=False)\n",
    "movie_data[\"title\"] = movie_data.title.str.replace('(\\(\\d\\d\\d\\d\\))', '')\n",
    "movie_data[\"title\"] = movie_data[\"title\"].apply(lambda x: x.strip())"
   ]
  },
  {
   "cell_type": "code",
   "execution_count": 4,
   "id": "e6a2817f",
   "metadata": {},
   "outputs": [],
   "source": [
    "movie_data[\"genres\"] = movie_data.genres.str.split('|')"
   ]
  },
  {
   "cell_type": "code",
   "execution_count": 5,
   "id": "d553330a",
   "metadata": {},
   "outputs": [],
   "source": [
    "moviesWithGenres_data = movie_data.copy()\n",
    "for index, row in movie_data.iterrows():\n",
    "    for genre in row[\"genres\"]:\n",
    "        moviesWithGenres_data.at[index, genre] = 1\n",
    "moviesWithGenres_data = moviesWithGenres_data.fillna(0)"
   ]
  },
  {
   "cell_type": "code",
   "execution_count": 6,
   "id": "15006681",
   "metadata": {},
   "outputs": [
    {
     "name": "stderr",
     "output_type": "stream",
     "text": [
      "C:\\Users\\CHAITA~2\\AppData\\Local\\Temp/ipykernel_5112/804063298.py:1: FutureWarning: In a future version of pandas all arguments of DataFrame.drop except for the argument 'labels' will be keyword-only.\n",
      "  ratings_data = ratings_data.drop(\"timestamp\", 1)\n"
     ]
    }
   ],
   "source": [
    "ratings_data = ratings_data.drop(\"timestamp\", 1)\n",
    "Input = [\n",
    "        {'title':'Breakfast Club, The', 'rating':5},\n",
    "        {'title':'Toy Story', 'rating':3.5},\n",
    "        {'title':'Jumanji', 'rating':2},\n",
    "        {'title':\"Pulp Fiction\", 'rating':5},\n",
    "        {'title':'Akira', 'rating':4.5}\n",
    "         ] \n",
    "inputMovies = pd.DataFrame(Input)"
   ]
  },
  {
   "cell_type": "code",
   "execution_count": 7,
   "id": "043644dc",
   "metadata": {},
   "outputs": [
    {
     "name": "stderr",
     "output_type": "stream",
     "text": [
      "C:\\Users\\CHAITA~2\\AppData\\Local\\Temp/ipykernel_5112/2023706745.py:3: FutureWarning: In a future version of pandas all arguments of DataFrame.drop except for the argument 'labels' will be keyword-only.\n",
      "  inputMovies = inputMovies.drop(\"genres\", 1).drop(\"year\", 1)\n",
      "C:\\Users\\CHAITA~2\\AppData\\Local\\Temp/ipykernel_5112/2023706745.py:3: FutureWarning: In a future version of pandas all arguments of DataFrame.drop except for the argument 'labels' will be keyword-only.\n",
      "  inputMovies = inputMovies.drop(\"genres\", 1).drop(\"year\", 1)\n",
      "C:\\Users\\CHAITA~2\\AppData\\Local\\Temp/ipykernel_5112/2023706745.py:6: FutureWarning: In a future version of pandas all arguments of DataFrame.drop except for the argument 'labels' will be keyword-only.\n",
      "  userGenreTable = userMovies.drop(\"movieId\", 1).drop(\"title\", 1).drop(\"genres\", 1).drop(\"year\", 1)\n",
      "C:\\Users\\CHAITA~2\\AppData\\Local\\Temp/ipykernel_5112/2023706745.py:6: FutureWarning: In a future version of pandas all arguments of DataFrame.drop except for the argument 'labels' will be keyword-only.\n",
      "  userGenreTable = userMovies.drop(\"movieId\", 1).drop(\"title\", 1).drop(\"genres\", 1).drop(\"year\", 1)\n",
      "C:\\Users\\CHAITA~2\\AppData\\Local\\Temp/ipykernel_5112/2023706745.py:6: FutureWarning: In a future version of pandas all arguments of DataFrame.drop except for the argument 'labels' will be keyword-only.\n",
      "  userGenreTable = userMovies.drop(\"movieId\", 1).drop(\"title\", 1).drop(\"genres\", 1).drop(\"year\", 1)\n",
      "C:\\Users\\CHAITA~2\\AppData\\Local\\Temp/ipykernel_5112/2023706745.py:6: FutureWarning: In a future version of pandas all arguments of DataFrame.drop except for the argument 'labels' will be keyword-only.\n",
      "  userGenreTable = userMovies.drop(\"movieId\", 1).drop(\"title\", 1).drop(\"genres\", 1).drop(\"year\", 1)\n"
     ]
    }
   ],
   "source": [
    "input_Id = movie_data[movie_data[\"title\"].isin(inputMovies[\"title\"].tolist())]\n",
    "inputMovies = pd.merge(input_Id, inputMovies)\n",
    "inputMovies = inputMovies.drop(\"genres\", 1).drop(\"year\", 1)\n",
    "userMovies = moviesWithGenres_data[moviesWithGenres_data[\"movieId\"].isin(inputMovies[\"movieId\"].tolist())]\n",
    "userMovies = userMovies.reset_index(drop=True)\n",
    "userGenreTable = userMovies.drop(\"movieId\", 1).drop(\"title\", 1).drop(\"genres\", 1).drop(\"year\", 1)\n",
    "userProfile = userGenreTable.transpose().dot(inputMovies[\"rating\"])"
   ]
  },
  {
   "cell_type": "code",
   "execution_count": 8,
   "id": "6a8b2890",
   "metadata": {},
   "outputs": [
    {
     "name": "stdout",
     "output_type": "stream",
     "text": [
      "       movieId                                              title  \\\n",
      "664        673                                          Space Jam   \n",
      "1824      1907                                              Mulan   \n",
      "2902      2987                           Who Framed Roger Rabbit?   \n",
      "4923      5018                                           Motorama   \n",
      "6793      6902                                      Interstate 60   \n",
      "8605     26093         Wonderful World of the Brothers Grimm, The   \n",
      "8783     26340  Twelve Tasks of Asterix, The (Les douze travau...   \n",
      "9296     27344  Revolutionary Girl Utena: Adolescence of Utena...   \n",
      "9825     32031                                             Robots   \n",
      "11716    51632                            Atlantis: Milo's Return   \n",
      "11751    51939                TMNT (Teenage Mutant Ninja Turtles)   \n",
      "13250    64645                                  The Wrecking Crew   \n",
      "16055    81132                                             Rubber   \n",
      "18312    91335                                      Gruffalo, The   \n",
      "22778   108540           Ernest & Célestine (Ernest et Célestine)   \n",
      "22881   108932                                     The Lego Movie   \n",
      "25218   117646                     Dragonheart 2: A New Beginning   \n",
      "26442   122787                                       The 39 Steps   \n",
      "32854   146305                             Princes and Princesses   \n",
      "33509   148775                Wizards of Waverly Place: The Movie   \n",
      "\n",
      "                                                  genres  year  \n",
      "664    [Adventure, Animation, Children, Comedy, Fanta...  1996  \n",
      "1824   [Adventure, Animation, Children, Comedy, Drama...  1998  \n",
      "2902   [Adventure, Animation, Children, Comedy, Crime...  1988  \n",
      "4923   [Adventure, Comedy, Crime, Drama, Fantasy, Mys...  1991  \n",
      "6793   [Adventure, Comedy, Drama, Fantasy, Mystery, S...  2002  \n",
      "8605   [Adventure, Animation, Children, Comedy, Drama...  1962  \n",
      "8783   [Action, Adventure, Animation, Children, Comed...  1976  \n",
      "9296   [Action, Adventure, Animation, Comedy, Drama, ...  1999  \n",
      "9825   [Adventure, Animation, Children, Comedy, Fanta...  2005  \n",
      "11716  [Action, Adventure, Animation, Children, Comed...  2003  \n",
      "11751  [Action, Adventure, Animation, Children, Comed...  2007  \n",
      "13250  [Action, Adventure, Comedy, Crime, Drama, Thri...  1968  \n",
      "16055  [Action, Adventure, Comedy, Crime, Drama, Film...  2010  \n",
      "18312    [Adventure, Animation, Children, Comedy, Drama]  2009  \n",
      "22778  [Adventure, Animation, Children, Comedy, Drama...  2012  \n",
      "22881  [Action, Adventure, Animation, Children, Comed...  2014  \n",
      "25218  [Action, Adventure, Comedy, Drama, Fantasy, Th...  2000  \n",
      "26442  [Action, Adventure, Comedy, Crime, Drama, Thri...  1959  \n",
      "32854  [Animation, Children, Comedy, Drama, Fantasy, ...  2000  \n",
      "33509  [Adventure, Children, Comedy, Drama, Fantasy, ...  2009  \n"
     ]
    },
    {
     "name": "stderr",
     "output_type": "stream",
     "text": [
      "C:\\Users\\CHAITA~2\\AppData\\Local\\Temp/ipykernel_5112/2059638600.py:2: FutureWarning: In a future version of pandas all arguments of DataFrame.drop except for the argument 'labels' will be keyword-only.\n",
      "  genreTable = genreTable.drop(\"movieId\", 1).drop(\"title\", 1).drop(\"genres\", 1).drop(\"year\", 1)\n",
      "C:\\Users\\CHAITA~2\\AppData\\Local\\Temp/ipykernel_5112/2059638600.py:2: FutureWarning: In a future version of pandas all arguments of DataFrame.drop except for the argument 'labels' will be keyword-only.\n",
      "  genreTable = genreTable.drop(\"movieId\", 1).drop(\"title\", 1).drop(\"genres\", 1).drop(\"year\", 1)\n",
      "C:\\Users\\CHAITA~2\\AppData\\Local\\Temp/ipykernel_5112/2059638600.py:2: FutureWarning: In a future version of pandas all arguments of DataFrame.drop except for the argument 'labels' will be keyword-only.\n",
      "  genreTable = genreTable.drop(\"movieId\", 1).drop(\"title\", 1).drop(\"genres\", 1).drop(\"year\", 1)\n",
      "C:\\Users\\CHAITA~2\\AppData\\Local\\Temp/ipykernel_5112/2059638600.py:2: FutureWarning: In a future version of pandas all arguments of DataFrame.drop except for the argument 'labels' will be keyword-only.\n",
      "  genreTable = genreTable.drop(\"movieId\", 1).drop(\"title\", 1).drop(\"genres\", 1).drop(\"year\", 1)\n"
     ]
    }
   ],
   "source": [
    "genreTable = moviesWithGenres_data.set_index(moviesWithGenres_data[\"movieId\"])\n",
    "genreTable = genreTable.drop(\"movieId\", 1).drop(\"title\", 1).drop(\"genres\", 1).drop(\"year\", 1)\n",
    "recomendedTable = ((genreTable * userProfile).sum(axis=1))/(userProfile.sum())\n",
    "recomendedTable = recomendedTable.sort_values(ascending=False)\n",
    "Table_recomended = movie_data.loc[movie_data[\"movieId\"].isin(recomendedTable.head(20).keys())]\n",
    "print(Table_recomended)"
   ]
  }
 ],
 "metadata": {
  "kernelspec": {
   "display_name": "Python 3 (ipykernel)",
   "language": "python",
   "name": "python3"
  },
  "language_info": {
   "codemirror_mode": {
    "name": "ipython",
    "version": 3
   },
   "file_extension": ".py",
   "mimetype": "text/x-python",
   "name": "python",
   "nbconvert_exporter": "python",
   "pygments_lexer": "ipython3",
   "version": "3.9.7"
  }
 },
 "nbformat": 4,
 "nbformat_minor": 5
}
