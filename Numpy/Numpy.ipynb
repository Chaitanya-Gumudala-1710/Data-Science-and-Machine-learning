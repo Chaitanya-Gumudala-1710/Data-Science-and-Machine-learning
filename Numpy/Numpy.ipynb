{
 "cells": [
  {
   "cell_type": "markdown",
   "id": "f4e381e7",
   "metadata": {},
   "source": [
    "# Numpy"
   ]
  },
  {
   "cell_type": "markdown",
   "id": "d4bf33f3",
   "metadata": {},
   "source": [
    "Numerical Python, is a powerful library in Python used for numerical and mathematical operations. It provides support for large, multi-dimensional arrays and matrices, along with a collection of mathematical functions to operate on these arrays. NumPy is widely used in scientific computing, data analysis, machine learning, and other areas where numerical operations are a central part of the workflow."
   ]
  },
  {
   "cell_type": "markdown",
   "id": "6d7e69b6",
   "metadata": {},
   "source": [
    "## Importing the library"
   ]
  },
  {
   "cell_type": "code",
   "execution_count": 1,
   "id": "77b0acd5",
   "metadata": {},
   "outputs": [],
   "source": [
    "import numpy as np"
   ]
  },
  {
   "cell_type": "markdown",
   "id": "21183d2f",
   "metadata": {},
   "source": [
    "### Declaring the arrays"
   ]
  },
  {
   "cell_type": "code",
   "execution_count": 2,
   "id": "a7f9476c",
   "metadata": {},
   "outputs": [],
   "source": [
    "a1 = np.array([1, 2, 3])\n",
    "a2 = np.array([4, 5, 6])"
   ]
  },
  {
   "cell_type": "markdown",
   "id": "87e8cc7d",
   "metadata": {},
   "source": [
    "### Adding arrays"
   ]
  },
  {
   "cell_type": "code",
   "execution_count": 3,
   "id": "39f08517",
   "metadata": {},
   "outputs": [
    {
     "data": {
      "text/plain": [
       "array([5, 7, 9])"
      ]
     },
     "execution_count": 3,
     "metadata": {},
     "output_type": "execute_result"
    }
   ],
   "source": [
    "a1 + a2"
   ]
  },
  {
   "cell_type": "markdown",
   "id": "dc856ecb",
   "metadata": {},
   "source": [
    "### Subtracting arrays"
   ]
  },
  {
   "cell_type": "code",
   "execution_count": 4,
   "id": "2c263c46",
   "metadata": {},
   "outputs": [
    {
     "data": {
      "text/plain": [
       "array([-3, -3, -3])"
      ]
     },
     "execution_count": 4,
     "metadata": {},
     "output_type": "execute_result"
    }
   ],
   "source": [
    "a1 - a2"
   ]
  },
  {
   "cell_type": "markdown",
   "id": "50666548",
   "metadata": {},
   "source": [
    "### Multiplying arrays"
   ]
  },
  {
   "cell_type": "code",
   "execution_count": 5,
   "id": "7b92628f",
   "metadata": {},
   "outputs": [
    {
     "data": {
      "text/plain": [
       "array([ 4, 10, 18])"
      ]
     },
     "execution_count": 5,
     "metadata": {},
     "output_type": "execute_result"
    }
   ],
   "source": [
    "a1 * a2"
   ]
  },
  {
   "cell_type": "markdown",
   "id": "157faa13",
   "metadata": {},
   "source": [
    "### Dividing arrays"
   ]
  },
  {
   "cell_type": "code",
   "execution_count": 6,
   "id": "b4a9279b",
   "metadata": {},
   "outputs": [
    {
     "data": {
      "text/plain": [
       "array([0.25, 0.4 , 0.5 ])"
      ]
     },
     "execution_count": 6,
     "metadata": {},
     "output_type": "execute_result"
    }
   ],
   "source": [
    "a1 / a2"
   ]
  },
  {
   "cell_type": "markdown",
   "id": "65badff7",
   "metadata": {},
   "source": [
    "### Accessing the elements of the array by indexing "
   ]
  },
  {
   "cell_type": "code",
   "execution_count": 7,
   "id": "800c9788",
   "metadata": {},
   "outputs": [
    {
     "data": {
      "text/plain": [
       "3"
      ]
     },
     "execution_count": 7,
     "metadata": {},
     "output_type": "execute_result"
    }
   ],
   "source": [
    "a1[2]"
   ]
  },
  {
   "cell_type": "code",
   "execution_count": 8,
   "id": "cdf0e0bd",
   "metadata": {},
   "outputs": [],
   "source": [
    "a = np.array([[1, 2], [3, 4], [5, 6]])"
   ]
  },
  {
   "cell_type": "markdown",
   "id": "651d8a0a",
   "metadata": {},
   "source": [
    "### ndim - Dimension of the array"
   ]
  },
  {
   "cell_type": "code",
   "execution_count": 9,
   "id": "2f64e075",
   "metadata": {},
   "outputs": [
    {
     "data": {
      "text/plain": [
       "2"
      ]
     },
     "execution_count": 9,
     "metadata": {},
     "output_type": "execute_result"
    }
   ],
   "source": [
    "a.ndim"
   ]
  },
  {
   "cell_type": "markdown",
   "id": "f475489d",
   "metadata": {},
   "source": [
    "### itemsize - Byte size of elements"
   ]
  },
  {
   "cell_type": "code",
   "execution_count": 10,
   "id": "54760caf",
   "metadata": {},
   "outputs": [
    {
     "data": {
      "text/plain": [
       "8"
      ]
     },
     "execution_count": 10,
     "metadata": {},
     "output_type": "execute_result"
    }
   ],
   "source": [
    "a.itemsize"
   ]
  },
  {
   "cell_type": "markdown",
   "id": "d8277e46",
   "metadata": {},
   "source": [
    "### dtype - Datatype of array"
   ]
  },
  {
   "cell_type": "code",
   "execution_count": 11,
   "id": "48d9499f",
   "metadata": {},
   "outputs": [
    {
     "data": {
      "text/plain": [
       "dtype('int64')"
      ]
     },
     "execution_count": 11,
     "metadata": {},
     "output_type": "execute_result"
    }
   ],
   "source": [
    "a.dtype"
   ]
  },
  {
   "cell_type": "markdown",
   "id": "adf76185",
   "metadata": {},
   "source": [
    "### Changing datatype of the array"
   ]
  },
  {
   "cell_type": "code",
   "execution_count": 12,
   "id": "b8592099",
   "metadata": {},
   "outputs": [],
   "source": [
    "a = np.array([[1, 2], [3, 4], [5, 6]], dtype=np.float64)"
   ]
  },
  {
   "cell_type": "code",
   "execution_count": 13,
   "id": "217962cb",
   "metadata": {},
   "outputs": [
    {
     "data": {
      "text/plain": [
       "8"
      ]
     },
     "execution_count": 13,
     "metadata": {},
     "output_type": "execute_result"
    }
   ],
   "source": [
    "a.itemsize"
   ]
  },
  {
   "cell_type": "code",
   "execution_count": 14,
   "id": "3c21e37b",
   "metadata": {},
   "outputs": [
    {
     "data": {
      "text/plain": [
       "array([[1., 2.],\n",
       "       [3., 4.],\n",
       "       [5., 6.]])"
      ]
     },
     "execution_count": 14,
     "metadata": {},
     "output_type": "execute_result"
    }
   ],
   "source": [
    "a"
   ]
  },
  {
   "cell_type": "markdown",
   "id": "e03d5593",
   "metadata": {},
   "source": [
    "### size - Prints the number of elements in array"
   ]
  },
  {
   "cell_type": "code",
   "execution_count": 15,
   "id": "d61d4269",
   "metadata": {},
   "outputs": [
    {
     "data": {
      "text/plain": [
       "6"
      ]
     },
     "execution_count": 15,
     "metadata": {},
     "output_type": "execute_result"
    }
   ],
   "source": [
    "a.size"
   ]
  },
  {
   "cell_type": "markdown",
   "id": "18afcc42",
   "metadata": {},
   "source": [
    "### shape - Returns the height and width of the array"
   ]
  },
  {
   "cell_type": "code",
   "execution_count": 16,
   "id": "cd0ee4b8",
   "metadata": {},
   "outputs": [
    {
     "data": {
      "text/plain": [
       "(3, 2)"
      ]
     },
     "execution_count": 16,
     "metadata": {},
     "output_type": "execute_result"
    }
   ],
   "source": [
    "a.shape"
   ]
  },
  {
   "cell_type": "markdown",
   "id": "c5f7d383",
   "metadata": {},
   "source": [
    "### zeros - Create array with all elements with Zero"
   ]
  },
  {
   "cell_type": "code",
   "execution_count": 17,
   "id": "e1fe764e",
   "metadata": {},
   "outputs": [
    {
     "data": {
      "text/plain": [
       "array([[0., 0., 0., 0.],\n",
       "       [0., 0., 0., 0.],\n",
       "       [0., 0., 0., 0.]])"
      ]
     },
     "execution_count": 17,
     "metadata": {},
     "output_type": "execute_result"
    }
   ],
   "source": [
    "np.zeros((3, 4))"
   ]
  },
  {
   "cell_type": "markdown",
   "id": "490bc2c3",
   "metadata": {},
   "source": [
    "### ones - Create array with all elements with One"
   ]
  },
  {
   "cell_type": "code",
   "execution_count": 18,
   "id": "a3c201b1",
   "metadata": {},
   "outputs": [
    {
     "data": {
      "text/plain": [
       "array([[1., 1., 1.],\n",
       "       [1., 1., 1.],\n",
       "       [1., 1., 1.],\n",
       "       [1., 1., 1.]])"
      ]
     },
     "execution_count": 18,
     "metadata": {},
     "output_type": "execute_result"
    }
   ],
   "source": [
    "np.ones((4, 3))"
   ]
  },
  {
   "cell_type": "markdown",
   "id": "d7b96c57",
   "metadata": {},
   "source": [
    "### arange - Creates an array with specified Range "
   ]
  },
  {
   "cell_type": "code",
   "execution_count": 19,
   "id": "2102fe21",
   "metadata": {},
   "outputs": [
    {
     "data": {
      "text/plain": [
       "array([1, 2, 3, 4])"
      ]
     },
     "execution_count": 19,
     "metadata": {},
     "output_type": "execute_result"
    }
   ],
   "source": [
    "np.arange(1, 5)"
   ]
  },
  {
   "cell_type": "code",
   "execution_count": 20,
   "id": "47ada5cd",
   "metadata": {
    "scrolled": true
   },
   "outputs": [
    {
     "data": {
      "text/plain": [
       "array([1, 3])"
      ]
     },
     "execution_count": 20,
     "metadata": {},
     "output_type": "execute_result"
    }
   ],
   "source": [
    "np.arange(1, 5, 2)"
   ]
  },
  {
   "cell_type": "markdown",
   "id": "c34ffb73",
   "metadata": {},
   "source": [
    "### linspace - Generates random numbers of array in Specified Range Linearly"
   ]
  },
  {
   "cell_type": "code",
   "execution_count": 21,
   "id": "b0b3abb4",
   "metadata": {},
   "outputs": [
    {
     "data": {
      "text/plain": [
       "array([ 1.,  2.,  3.,  4.,  5.,  6.,  7.,  8.,  9., 10.])"
      ]
     },
     "execution_count": 21,
     "metadata": {},
     "output_type": "execute_result"
    }
   ],
   "source": [
    "np.linspace(1, 10, 10)"
   ]
  },
  {
   "cell_type": "code",
   "execution_count": 22,
   "id": "671e4086",
   "metadata": {},
   "outputs": [
    {
     "data": {
      "text/plain": [
       "array([ 1.        ,  1.47368421,  1.94736842,  2.42105263,  2.89473684,\n",
       "        3.36842105,  3.84210526,  4.31578947,  4.78947368,  5.26315789,\n",
       "        5.73684211,  6.21052632,  6.68421053,  7.15789474,  7.63157895,\n",
       "        8.10526316,  8.57894737,  9.05263158,  9.52631579, 10.        ])"
      ]
     },
     "execution_count": 22,
     "metadata": {},
     "output_type": "execute_result"
    }
   ],
   "source": [
    "np.linspace(1, 10, 20)"
   ]
  },
  {
   "cell_type": "markdown",
   "id": "e36551ad",
   "metadata": {},
   "source": [
    "### reshape - Change the shape of the array"
   ]
  },
  {
   "cell_type": "code",
   "execution_count": 23,
   "id": "26abc236",
   "metadata": {},
   "outputs": [
    {
     "data": {
      "text/plain": [
       "array([[1., 2., 3.],\n",
       "       [4., 5., 6.]])"
      ]
     },
     "execution_count": 23,
     "metadata": {},
     "output_type": "execute_result"
    }
   ],
   "source": [
    "a.reshape(2, 3)"
   ]
  },
  {
   "cell_type": "code",
   "execution_count": 24,
   "id": "7bc673ec",
   "metadata": {},
   "outputs": [
    {
     "data": {
      "text/plain": [
       "array([[1.],\n",
       "       [2.],\n",
       "       [3.],\n",
       "       [4.],\n",
       "       [5.],\n",
       "       [6.]])"
      ]
     },
     "execution_count": 24,
     "metadata": {},
     "output_type": "execute_result"
    }
   ],
   "source": [
    "a.reshape(6, 1)"
   ]
  },
  {
   "cell_type": "markdown",
   "id": "703115e5",
   "metadata": {},
   "source": [
    "### ravel - Flatten the array into one-dimension"
   ]
  },
  {
   "cell_type": "code",
   "execution_count": 25,
   "id": "8453f76f",
   "metadata": {},
   "outputs": [
    {
     "data": {
      "text/plain": [
       "array([1., 2., 3., 4., 5., 6.])"
      ]
     },
     "execution_count": 25,
     "metadata": {},
     "output_type": "execute_result"
    }
   ],
   "source": [
    "a.ravel()"
   ]
  },
  {
   "cell_type": "markdown",
   "id": "14116346",
   "metadata": {},
   "source": [
    "### max and min - Returns Maximum and Minimum elements of array"
   ]
  },
  {
   "cell_type": "code",
   "execution_count": 26,
   "id": "8ea246ec",
   "metadata": {},
   "outputs": [
    {
     "data": {
      "text/plain": [
       "6.0"
      ]
     },
     "execution_count": 26,
     "metadata": {},
     "output_type": "execute_result"
    }
   ],
   "source": [
    "a.max()"
   ]
  },
  {
   "cell_type": "code",
   "execution_count": 27,
   "id": "c7c228ec",
   "metadata": {},
   "outputs": [
    {
     "data": {
      "text/plain": [
       "1.0"
      ]
     },
     "execution_count": 27,
     "metadata": {},
     "output_type": "execute_result"
    }
   ],
   "source": [
    "a.min()"
   ]
  },
  {
   "cell_type": "markdown",
   "id": "d3e6839a",
   "metadata": {},
   "source": [
    "### sum - Returns sum of all elements in array"
   ]
  },
  {
   "cell_type": "code",
   "execution_count": 28,
   "id": "d85fc18c",
   "metadata": {
    "scrolled": true
   },
   "outputs": [
    {
     "data": {
      "text/plain": [
       "21.0"
      ]
     },
     "execution_count": 28,
     "metadata": {},
     "output_type": "execute_result"
    }
   ],
   "source": [
    "a.sum()"
   ]
  },
  {
   "cell_type": "markdown",
   "id": "e0f1360e",
   "metadata": {},
   "source": [
    "#### axis = 0 Returns sum of elements in column "
   ]
  },
  {
   "cell_type": "code",
   "execution_count": 29,
   "id": "25c7ce0a",
   "metadata": {
    "scrolled": true
   },
   "outputs": [
    {
     "data": {
      "text/plain": [
       "array([ 9., 12.])"
      ]
     },
     "execution_count": 29,
     "metadata": {},
     "output_type": "execute_result"
    }
   ],
   "source": [
    "a.sum(axis = 0)"
   ]
  },
  {
   "cell_type": "markdown",
   "id": "e2f9e4bf",
   "metadata": {},
   "source": [
    "#### axis = 1 Returns sum of elements in row "
   ]
  },
  {
   "cell_type": "code",
   "execution_count": 30,
   "id": "82388aa7",
   "metadata": {},
   "outputs": [
    {
     "data": {
      "text/plain": [
       "array([ 3.,  7., 11.])"
      ]
     },
     "execution_count": 30,
     "metadata": {},
     "output_type": "execute_result"
    }
   ],
   "source": [
    "a.sum(axis = 1)"
   ]
  },
  {
   "cell_type": "markdown",
   "id": "6699f23e",
   "metadata": {},
   "source": [
    "### sqrt - Returns square root of elements in array"
   ]
  },
  {
   "cell_type": "code",
   "execution_count": 31,
   "id": "7cf3aa38",
   "metadata": {},
   "outputs": [
    {
     "data": {
      "text/plain": [
       "array([[1.        , 1.41421356],\n",
       "       [1.73205081, 2.        ],\n",
       "       [2.23606798, 2.44948974]])"
      ]
     },
     "execution_count": 31,
     "metadata": {},
     "output_type": "execute_result"
    }
   ],
   "source": [
    "np.sqrt(a)"
   ]
  },
  {
   "cell_type": "markdown",
   "id": "91560b0b",
   "metadata": {},
   "source": [
    "### std - Returns standard deviation of elements in array"
   ]
  },
  {
   "cell_type": "code",
   "execution_count": 32,
   "id": "ce2bd94b",
   "metadata": {
    "scrolled": true
   },
   "outputs": [
    {
     "data": {
      "text/plain": [
       "1.707825127659933"
      ]
     },
     "execution_count": 32,
     "metadata": {},
     "output_type": "execute_result"
    }
   ],
   "source": [
    "np.std(a)"
   ]
  },
  {
   "cell_type": "markdown",
   "id": "cc293911",
   "metadata": {},
   "source": [
    "### indexing and slicing"
   ]
  },
  {
   "cell_type": "code",
   "execution_count": 33,
   "id": "00e18c72",
   "metadata": {},
   "outputs": [],
   "source": [
    "b = np.array([[1, 2, 3], [4, 5, 6], [7, 8, 9]])"
   ]
  },
  {
   "cell_type": "code",
   "execution_count": 34,
   "id": "15bea4cf",
   "metadata": {},
   "outputs": [
    {
     "data": {
      "text/plain": [
       "6"
      ]
     },
     "execution_count": 34,
     "metadata": {},
     "output_type": "execute_result"
    }
   ],
   "source": [
    "# array_name[row, column]\n",
    "b[1, 2]"
   ]
  },
  {
   "cell_type": "code",
   "execution_count": 35,
   "id": "9f6bbe88",
   "metadata": {},
   "outputs": [
    {
     "data": {
      "text/plain": [
       "array([3, 6])"
      ]
     },
     "execution_count": 35,
     "metadata": {},
     "output_type": "execute_result"
    }
   ],
   "source": [
    "b[0:2, 2]"
   ]
  },
  {
   "cell_type": "code",
   "execution_count": 36,
   "id": "7f9c19b7",
   "metadata": {},
   "outputs": [
    {
     "data": {
      "text/plain": [
       "array([7, 8, 9])"
      ]
     },
     "execution_count": 36,
     "metadata": {},
     "output_type": "execute_result"
    }
   ],
   "source": [
    "b[-1]"
   ]
  },
  {
   "cell_type": "code",
   "execution_count": 37,
   "id": "f1897c14",
   "metadata": {},
   "outputs": [
    {
     "data": {
      "text/plain": [
       "array([7, 8])"
      ]
     },
     "execution_count": 37,
     "metadata": {},
     "output_type": "execute_result"
    }
   ],
   "source": [
    "b[-1, 0:2]"
   ]
  },
  {
   "cell_type": "code",
   "execution_count": 38,
   "id": "19dad892",
   "metadata": {},
   "outputs": [
    {
     "data": {
      "text/plain": [
       "array([[2, 3],\n",
       "       [5, 6],\n",
       "       [8, 9]])"
      ]
     },
     "execution_count": 38,
     "metadata": {},
     "output_type": "execute_result"
    }
   ],
   "source": [
    "b[:, 1:3]"
   ]
  },
  {
   "cell_type": "markdown",
   "id": "d7bbde75",
   "metadata": {},
   "source": [
    "### iterate through numpy arrays"
   ]
  },
  {
   "cell_type": "code",
   "execution_count": 39,
   "id": "3637da08",
   "metadata": {},
   "outputs": [
    {
     "name": "stdout",
     "output_type": "stream",
     "text": [
      "[1 2 3]\n",
      "[4 5 6]\n",
      "[7 8 9]\n"
     ]
    }
   ],
   "source": [
    "for row in b:\n",
    "    print(row)"
   ]
  },
  {
   "cell_type": "code",
   "execution_count": 40,
   "id": "78f228c4",
   "metadata": {},
   "outputs": [
    {
     "name": "stdout",
     "output_type": "stream",
     "text": [
      "1\n",
      "2\n",
      "3\n",
      "4\n",
      "5\n",
      "6\n",
      "7\n",
      "8\n",
      "9\n"
     ]
    }
   ],
   "source": [
    "for cell in b.flat:\n",
    "    print(cell)"
   ]
  },
  {
   "cell_type": "code",
   "execution_count": 41,
   "id": "1f362d64",
   "metadata": {},
   "outputs": [],
   "source": [
    "c = np.arange(6).reshape(3, 2)\n",
    "d = np.arange(6, 12).reshape(3, 2)"
   ]
  },
  {
   "cell_type": "code",
   "execution_count": 42,
   "id": "7f64acc4",
   "metadata": {},
   "outputs": [
    {
     "data": {
      "text/plain": [
       "array([[0, 1],\n",
       "       [2, 3],\n",
       "       [4, 5]])"
      ]
     },
     "execution_count": 42,
     "metadata": {},
     "output_type": "execute_result"
    }
   ],
   "source": [
    "c"
   ]
  },
  {
   "cell_type": "code",
   "execution_count": 43,
   "id": "eb4a747e",
   "metadata": {},
   "outputs": [
    {
     "data": {
      "text/plain": [
       "array([[ 6,  7],\n",
       "       [ 8,  9],\n",
       "       [10, 11]])"
      ]
     },
     "execution_count": 43,
     "metadata": {},
     "output_type": "execute_result"
    }
   ],
   "source": [
    "d"
   ]
  },
  {
   "cell_type": "markdown",
   "id": "234d8763",
   "metadata": {},
   "source": [
    "### vstack - Sticking together two array vertically"
   ]
  },
  {
   "cell_type": "code",
   "execution_count": 44,
   "id": "7d50d5d6",
   "metadata": {},
   "outputs": [
    {
     "data": {
      "text/plain": [
       "array([[ 0,  1],\n",
       "       [ 2,  3],\n",
       "       [ 4,  5],\n",
       "       [ 6,  7],\n",
       "       [ 8,  9],\n",
       "       [10, 11]])"
      ]
     },
     "execution_count": 44,
     "metadata": {},
     "output_type": "execute_result"
    }
   ],
   "source": [
    "np.vstack((c, d))"
   ]
  },
  {
   "cell_type": "markdown",
   "id": "42c73385",
   "metadata": {},
   "source": [
    "### hstack - Sticking together two array horizontally"
   ]
  },
  {
   "cell_type": "code",
   "execution_count": 45,
   "id": "522815a2",
   "metadata": {},
   "outputs": [
    {
     "data": {
      "text/plain": [
       "array([[ 0,  1,  6,  7],\n",
       "       [ 2,  3,  8,  9],\n",
       "       [ 4,  5, 10, 11]])"
      ]
     },
     "execution_count": 45,
     "metadata": {},
     "output_type": "execute_result"
    }
   ],
   "source": [
    "np.hstack((c, d))"
   ]
  },
  {
   "cell_type": "markdown",
   "id": "53e09e4a",
   "metadata": {},
   "source": [
    "### hsplit - Split array vertically"
   ]
  },
  {
   "cell_type": "code",
   "execution_count": 46,
   "id": "41130bf2",
   "metadata": {},
   "outputs": [],
   "source": [
    "e = np.arange(30).reshape(2, 15)"
   ]
  },
  {
   "cell_type": "code",
   "execution_count": 47,
   "id": "fb39c504",
   "metadata": {},
   "outputs": [],
   "source": [
    "result = np.hsplit(e, 3)"
   ]
  },
  {
   "cell_type": "code",
   "execution_count": 48,
   "id": "30c2e5ed",
   "metadata": {},
   "outputs": [
    {
     "data": {
      "text/plain": [
       "[array([[ 0,  1,  2,  3,  4],\n",
       "        [15, 16, 17, 18, 19]]),\n",
       " array([[ 5,  6,  7,  8,  9],\n",
       "        [20, 21, 22, 23, 24]]),\n",
       " array([[10, 11, 12, 13, 14],\n",
       "        [25, 26, 27, 28, 29]])]"
      ]
     },
     "execution_count": 48,
     "metadata": {},
     "output_type": "execute_result"
    }
   ],
   "source": [
    "result"
   ]
  },
  {
   "cell_type": "markdown",
   "id": "35db46e0",
   "metadata": {},
   "source": [
    "### vsplit - Split array horizontally"
   ]
  },
  {
   "cell_type": "code",
   "execution_count": 49,
   "id": "4bc8fa88",
   "metadata": {},
   "outputs": [],
   "source": [
    "result = np.vsplit(e, 2)"
   ]
  },
  {
   "cell_type": "code",
   "execution_count": 50,
   "id": "cae7808b",
   "metadata": {},
   "outputs": [
    {
     "data": {
      "text/plain": [
       "[array([[ 0,  1,  2,  3,  4,  5,  6,  7,  8,  9, 10, 11, 12, 13, 14]]),\n",
       " array([[15, 16, 17, 18, 19, 20, 21, 22, 23, 24, 25, 26, 27, 28, 29]])]"
      ]
     },
     "execution_count": 50,
     "metadata": {},
     "output_type": "execute_result"
    }
   ],
   "source": [
    "result"
   ]
  },
  {
   "cell_type": "markdown",
   "id": "922556ed",
   "metadata": {},
   "source": [
    "### indexing with Boolean array"
   ]
  },
  {
   "cell_type": "code",
   "execution_count": 51,
   "id": "15f7cc55",
   "metadata": {},
   "outputs": [],
   "source": [
    "f = np.arange(12).reshape(3, 4)"
   ]
  },
  {
   "cell_type": "code",
   "execution_count": 52,
   "id": "0c2308ea",
   "metadata": {},
   "outputs": [],
   "source": [
    "g =  f > 4"
   ]
  },
  {
   "cell_type": "code",
   "execution_count": 53,
   "id": "a8fbacbb",
   "metadata": {},
   "outputs": [
    {
     "data": {
      "text/plain": [
       "array([[False, False, False, False],\n",
       "       [False,  True,  True,  True],\n",
       "       [ True,  True,  True,  True]])"
      ]
     },
     "execution_count": 53,
     "metadata": {},
     "output_type": "execute_result"
    }
   ],
   "source": [
    "g"
   ]
  },
  {
   "cell_type": "code",
   "execution_count": 54,
   "id": "11db0d56",
   "metadata": {},
   "outputs": [
    {
     "data": {
      "text/plain": [
       "array([ 5,  6,  7,  8,  9, 10, 11])"
      ]
     },
     "execution_count": 54,
     "metadata": {},
     "output_type": "execute_result"
    }
   ],
   "source": [
    "f[g]"
   ]
  },
  {
   "cell_type": "code",
   "execution_count": 55,
   "id": "ae7469d0",
   "metadata": {},
   "outputs": [],
   "source": [
    "f[g] = -1"
   ]
  },
  {
   "cell_type": "code",
   "execution_count": 56,
   "id": "38318c4f",
   "metadata": {},
   "outputs": [
    {
     "data": {
      "text/plain": [
       "array([[ 0,  1,  2,  3],\n",
       "       [ 4, -1, -1, -1],\n",
       "       [-1, -1, -1, -1]])"
      ]
     },
     "execution_count": 56,
     "metadata": {},
     "output_type": "execute_result"
    }
   ],
   "source": [
    "f"
   ]
  },
  {
   "cell_type": "code",
   "execution_count": 57,
   "id": "90ebca22",
   "metadata": {},
   "outputs": [],
   "source": [
    "h = np.arange(12).reshape(3, 4)"
   ]
  },
  {
   "cell_type": "markdown",
   "id": "1c6973d4",
   "metadata": {},
   "source": [
    "### nditer - Iteration through numpy array"
   ]
  },
  {
   "cell_type": "markdown",
   "id": "0b3120e5",
   "metadata": {},
   "source": [
    "#### order C means printing array elements row by row "
   ]
  },
  {
   "cell_type": "code",
   "execution_count": 58,
   "id": "31275b40",
   "metadata": {},
   "outputs": [
    {
     "name": "stdout",
     "output_type": "stream",
     "text": [
      "0\n",
      "1\n",
      "2\n",
      "3\n",
      "4\n",
      "5\n",
      "6\n",
      "7\n",
      "8\n",
      "9\n",
      "10\n",
      "11\n"
     ]
    }
   ],
   "source": [
    "for x in np.nditer(h, order = \"C\"):\n",
    "    print(x)"
   ]
  },
  {
   "cell_type": "markdown",
   "id": "450e97a9",
   "metadata": {},
   "source": [
    "#### order F means printing array elements column by column"
   ]
  },
  {
   "cell_type": "code",
   "execution_count": 59,
   "id": "8897bf65",
   "metadata": {},
   "outputs": [
    {
     "name": "stdout",
     "output_type": "stream",
     "text": [
      "0\n",
      "4\n",
      "8\n",
      "1\n",
      "5\n",
      "9\n",
      "2\n",
      "6\n",
      "10\n",
      "3\n",
      "7\n",
      "11\n"
     ]
    }
   ],
   "source": [
    "for x in np.nditer(h, order = \"F\"):\n",
    "    print(x)"
   ]
  },
  {
   "cell_type": "code",
   "execution_count": 60,
   "id": "702dc586",
   "metadata": {},
   "outputs": [
    {
     "name": "stdout",
     "output_type": "stream",
     "text": [
      "[0 4 8]\n",
      "[1 5 9]\n",
      "[ 2  6 10]\n",
      "[ 3  7 11]\n"
     ]
    }
   ],
   "source": [
    "for x in np.nditer(h, order = \"F\", flags = [\"external_loop\"]):\n",
    "    print(x)"
   ]
  },
  {
   "cell_type": "code",
   "execution_count": 61,
   "id": "7a971223",
   "metadata": {},
   "outputs": [],
   "source": [
    "for x in np.nditer(h, op_flags = [\"readwrite\"]):\n",
    "    x[...] = x * x"
   ]
  },
  {
   "cell_type": "code",
   "execution_count": 62,
   "id": "6d556a59",
   "metadata": {},
   "outputs": [
    {
     "data": {
      "text/plain": [
       "array([[  0,   1,   4,   9],\n",
       "       [ 16,  25,  36,  49],\n",
       "       [ 64,  81, 100, 121]])"
      ]
     },
     "execution_count": 62,
     "metadata": {},
     "output_type": "execute_result"
    }
   ],
   "source": [
    "h"
   ]
  },
  {
   "cell_type": "code",
   "execution_count": 63,
   "id": "8801b5c0",
   "metadata": {},
   "outputs": [],
   "source": [
    "i = np.arange(3, 15, 4).reshape(3, 1)"
   ]
  },
  {
   "cell_type": "code",
   "execution_count": 64,
   "id": "310d815f",
   "metadata": {},
   "outputs": [
    {
     "name": "stdout",
     "output_type": "stream",
     "text": [
      "0 3\n",
      "1 3\n",
      "4 3\n",
      "9 3\n",
      "16 7\n",
      "25 7\n",
      "36 7\n",
      "49 7\n",
      "64 11\n",
      "81 11\n",
      "100 11\n",
      "121 11\n"
     ]
    }
   ],
   "source": [
    "for x, y in np.nditer([h, i]):\n",
    "    print(x, y)"
   ]
  }
 ],
 "metadata": {
  "kernelspec": {
   "display_name": "Python 3 (ipykernel)",
   "language": "python",
   "name": "python3"
  },
  "language_info": {
   "codemirror_mode": {
    "name": "ipython",
    "version": 3
   },
   "file_extension": ".py",
   "mimetype": "text/x-python",
   "name": "python",
   "nbconvert_exporter": "python",
   "pygments_lexer": "ipython3",
   "version": "3.10.12"
  }
 },
 "nbformat": 4,
 "nbformat_minor": 5
}
